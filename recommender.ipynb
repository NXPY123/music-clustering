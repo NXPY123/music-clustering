{
 "cells": [
  {
   "cell_type": "code",
   "execution_count": 21,
   "source": [
    "import sys\n",
    "import spotipy\n",
    "import yaml\n",
    "import spotipy.util as util\n",
    "from pprint import pprint\n",
    "import json\n",
    "import argparse\n",
    "import matplotlib.pyplot as plt\n",
    "import numpy as np\n",
    "import pandas as pd\n",
    "from sklearn.preprocessing import StandardScaler\n",
    "from sklearn.preprocessing import MinMaxScaler\n",
    "from sklearn.decomposition import PCA\n",
    "from sklearn.cluster import KMeans\n",
    "import seaborn as sns\n",
    "import plotly.graph_objects as go\n",
    "from yellowbrick.cluster import KElbowVisualizer\n",
    "from kneed import KneeLocator\n",
    "from plotly.subplots import make_subplots\n",
    "sns.set()"
   ],
   "outputs": [],
   "metadata": {
    "ExecuteTime": {
     "end_time": "2020-12-30T18:42:50.639018Z",
     "start_time": "2020-12-30T18:42:50.550297Z"
    }
   }
  },
  {
   "cell_type": "markdown",
   "source": [
    "## Spotipy Credentials and API Calls"
   ],
   "metadata": {}
  },
  {
   "cell_type": "code",
   "execution_count": 3,
   "source": [
    "# Get Spotipy credentials from config\n",
    "def load_config():\n",
    "    stream = open('config.yaml')\n",
    "    user_config = yaml.load(stream, Loader=yaml.FullLoader)\n",
    "    return user_config\n",
    "\n",
    "user_config = load_config()"
   ],
   "outputs": [],
   "metadata": {
    "ExecuteTime": {
     "end_time": "2020-12-30T18:42:51.704646Z",
     "start_time": "2020-12-30T18:42:51.688655Z"
    }
   }
  },
  {
   "cell_type": "code",
   "execution_count": 4,
   "source": [
    "# Initialize Spotify API token\n",
    "def get_token(SCOPE):\n",
    "    token = util.prompt_for_user_token(user_config['username'], scope=SCOPE, client_id=user_config['client_id'], client_secret=user_config['client_secret'], redirect_uri=user_config['redirect_uri'])\n",
    "    return token"
   ],
   "outputs": [],
   "metadata": {
    "ExecuteTime": {
     "end_time": "2020-12-30T18:42:53.154800Z",
     "start_time": "2020-12-30T18:42:52.767845Z"
    }
   }
  },
  {
   "cell_type": "code",
   "execution_count": 5,
   "source": [
    "sp = spotipy.Spotify(auth=get_token('playlist-read-private'))"
   ],
   "outputs": [],
   "metadata": {}
  },
  {
   "cell_type": "code",
   "execution_count": 6,
   "source": [
    "# A function to extract track names and URIs from a playlist\n",
    "def get_playlist_info(username, playlist_uri):\n",
    "    # initialize vars\n",
    "    offset = 0\n",
    "    tracks, uris, names, artists = [], [], [], []\n",
    "\n",
    "    # get playlist id and name from URI\n",
    "    playlist_id = playlist_uri.split(':')[2]\n",
    "    playlist_name = sp.user_playlist(username, playlist_id)['name']\n",
    "\n",
    "    # get all tracks in given playlist (max limit is 100 at a time --> use offset)\n",
    "    while True:\n",
    "        results = sp.user_playlist_tracks(username, playlist_id, offset=offset)\n",
    "        tracks += results['items']\n",
    "        if results['next'] is not None:\n",
    "            offset += 100\n",
    "        else:\n",
    "            break\n",
    "        \n",
    "    # get track metadata\n",
    "    for track in tracks:\n",
    "        names.append(track['track']['name'])\n",
    "        artists.append(track['track']['artists'][0]['name'])\n",
    "        uris.append(track['track']['uri'])\n",
    "    \n",
    "    return playlist_name, names, artists, uris"
   ],
   "outputs": [],
   "metadata": {
    "ExecuteTime": {
     "end_time": "2020-12-30T18:42:54.468003Z",
     "start_time": "2020-12-30T18:42:54.451971Z"
    }
   }
  },
  {
   "cell_type": "code",
   "execution_count": 7,
   "source": [
    "# Extract features from each track in a playlist\n",
    "def get_features_for_playlist(df, username, uri):\n",
    "  \n",
    "    # get all track metadata from given playlist\n",
    "    playlist_name, names, artists, uris = get_playlist_info(username, uri)\n",
    "    \n",
    "    # iterate through each track to get audio features and save data into dataframe\n",
    "    for name, artist, track_uri in zip(names, artists, uris):\n",
    "        # print(json.dumps(track_uri, indent=4))              \n",
    "        # ^ DEBUG STATEMENT ^\n",
    "        \n",
    "        # access audio features for given track URI via spotipy \n",
    "        audio_features = sp.audio_features(track_uri)\n",
    "\n",
    "        # get relevant audio features\n",
    "        feature_subset = [audio_features[0][col] for col in df.columns if col not in [\"name\", \"artist\", \"track_URI\", \"playlist\"]]\n",
    "\n",
    "        # compose a row of the dataframe by flattening the list of audio features\n",
    "        row = [name, artist, track_uri, *feature_subset, playlist_name]\n",
    "        df.loc[len(df.index)] = row\n",
    "    return df"
   ],
   "outputs": [],
   "metadata": {
    "ExecuteTime": {
     "end_time": "2020-12-30T18:42:55.846138Z",
     "start_time": "2020-12-30T18:42:55.839990Z"
    }
   }
  },
  {
   "cell_type": "code",
   "execution_count": 8,
   "source": [
    "df = pd.DataFrame(columns=['name', 'artist', 'track_URI', 'acousticness', 'danceability', 'energy', 'instrumentalness', 'liveness', 'loudness', 'speechiness', 'tempo', 'valence', 'playlist'])\n"
   ],
   "outputs": [],
   "metadata": {
    "ExecuteTime": {
     "end_time": "2020-12-30T18:42:57.075722Z",
     "start_time": "2020-12-30T18:42:57.045131Z"
    }
   }
  },
  {
   "cell_type": "code",
   "execution_count": 9,
   "source": [
    "df = get_features_for_playlist(df, user_config['username'], 'spotify:playlist:0AQoxkZoBFUI2RSXgOyug9')\n",
    "df\n"
   ],
   "outputs": [
    {
     "output_type": "execute_result",
     "data": {
      "text/html": [
       "<div>\n",
       "<style scoped>\n",
       "    .dataframe tbody tr th:only-of-type {\n",
       "        vertical-align: middle;\n",
       "    }\n",
       "\n",
       "    .dataframe tbody tr th {\n",
       "        vertical-align: top;\n",
       "    }\n",
       "\n",
       "    .dataframe thead th {\n",
       "        text-align: right;\n",
       "    }\n",
       "</style>\n",
       "<table border=\"1\" class=\"dataframe\">\n",
       "  <thead>\n",
       "    <tr style=\"text-align: right;\">\n",
       "      <th></th>\n",
       "      <th>name</th>\n",
       "      <th>artist</th>\n",
       "      <th>track_URI</th>\n",
       "      <th>acousticness</th>\n",
       "      <th>danceability</th>\n",
       "      <th>energy</th>\n",
       "      <th>instrumentalness</th>\n",
       "      <th>liveness</th>\n",
       "      <th>loudness</th>\n",
       "      <th>speechiness</th>\n",
       "      <th>tempo</th>\n",
       "      <th>valence</th>\n",
       "      <th>playlist</th>\n",
       "    </tr>\n",
       "  </thead>\n",
       "  <tbody>\n",
       "    <tr>\n",
       "      <th>0</th>\n",
       "      <td>A Million Doubts</td>\n",
       "      <td>Glassio</td>\n",
       "      <td>spotify:track:4fb2SOMtpKsleLxBcUrKzW</td>\n",
       "      <td>0.295000</td>\n",
       "      <td>0.500</td>\n",
       "      <td>0.886</td>\n",
       "      <td>0.862000</td>\n",
       "      <td>0.1050</td>\n",
       "      <td>-6.171</td>\n",
       "      <td>0.0430</td>\n",
       "      <td>177.949</td>\n",
       "      <td>0.310</td>\n",
       "      <td>shlumpy shwednesday</td>\n",
       "    </tr>\n",
       "    <tr>\n",
       "      <th>1</th>\n",
       "      <td>Hold Back The River</td>\n",
       "      <td>James Bay</td>\n",
       "      <td>spotify:track:7tmtOEDxPN7CWaQWBsG1DY</td>\n",
       "      <td>0.052600</td>\n",
       "      <td>0.715</td>\n",
       "      <td>0.715</td>\n",
       "      <td>0.000000</td>\n",
       "      <td>0.0936</td>\n",
       "      <td>-7.364</td>\n",
       "      <td>0.0904</td>\n",
       "      <td>134.923</td>\n",
       "      <td>0.506</td>\n",
       "      <td>shlumpy shwednesday</td>\n",
       "    </tr>\n",
       "    <tr>\n",
       "      <th>2</th>\n",
       "      <td>Waiting On the World to Change</td>\n",
       "      <td>John Mayer</td>\n",
       "      <td>spotify:track:5imShWWzwqfAJ9gXFpGAQh</td>\n",
       "      <td>0.157000</td>\n",
       "      <td>0.578</td>\n",
       "      <td>0.756</td>\n",
       "      <td>0.000232</td>\n",
       "      <td>0.2490</td>\n",
       "      <td>-5.820</td>\n",
       "      <td>0.1150</td>\n",
       "      <td>176.739</td>\n",
       "      <td>0.663</td>\n",
       "      <td>shlumpy shwednesday</td>\n",
       "    </tr>\n",
       "    <tr>\n",
       "      <th>3</th>\n",
       "      <td>Come On Get Higher</td>\n",
       "      <td>Matt Nathanson</td>\n",
       "      <td>spotify:track:38YgZVHPWOWsKrsCXz6JyP</td>\n",
       "      <td>0.241000</td>\n",
       "      <td>0.672</td>\n",
       "      <td>0.623</td>\n",
       "      <td>0.000000</td>\n",
       "      <td>0.0848</td>\n",
       "      <td>-5.699</td>\n",
       "      <td>0.0297</td>\n",
       "      <td>92.018</td>\n",
       "      <td>0.617</td>\n",
       "      <td>shlumpy shwednesday</td>\n",
       "    </tr>\n",
       "    <tr>\n",
       "      <th>4</th>\n",
       "      <td>Rhythm Of Love</td>\n",
       "      <td>Plain White T's</td>\n",
       "      <td>spotify:track:6MDTpYxPFL0wtFd0pjfKws</td>\n",
       "      <td>0.356000</td>\n",
       "      <td>0.531</td>\n",
       "      <td>0.542</td>\n",
       "      <td>0.000000</td>\n",
       "      <td>0.1190</td>\n",
       "      <td>-7.721</td>\n",
       "      <td>0.0432</td>\n",
       "      <td>171.878</td>\n",
       "      <td>0.726</td>\n",
       "      <td>shlumpy shwednesday</td>\n",
       "    </tr>\n",
       "    <tr>\n",
       "      <th>5</th>\n",
       "      <td>New Soul</td>\n",
       "      <td>Yael Naim</td>\n",
       "      <td>spotify:track:476JcJ3TpAuCOlGdCmomGm</td>\n",
       "      <td>0.733000</td>\n",
       "      <td>0.769</td>\n",
       "      <td>0.371</td>\n",
       "      <td>0.000037</td>\n",
       "      <td>0.1060</td>\n",
       "      <td>-8.522</td>\n",
       "      <td>0.0326</td>\n",
       "      <td>100.001</td>\n",
       "      <td>0.653</td>\n",
       "      <td>shlumpy shwednesday</td>\n",
       "    </tr>\n",
       "    <tr>\n",
       "      <th>6</th>\n",
       "      <td>Mess Is Mine</td>\n",
       "      <td>Vance Joy</td>\n",
       "      <td>spotify:track:7BVwi9cIzSc6tpyxsp47vJ</td>\n",
       "      <td>0.047000</td>\n",
       "      <td>0.595</td>\n",
       "      <td>0.723</td>\n",
       "      <td>0.028600</td>\n",
       "      <td>0.0995</td>\n",
       "      <td>-8.256</td>\n",
       "      <td>0.0349</td>\n",
       "      <td>108.043</td>\n",
       "      <td>0.272</td>\n",
       "      <td>shlumpy shwednesday</td>\n",
       "    </tr>\n",
       "    <tr>\n",
       "      <th>7</th>\n",
       "      <td>Step</td>\n",
       "      <td>Vampire Weekend</td>\n",
       "      <td>spotify:track:78J9MBkAoqfvyeEpQKJDzD</td>\n",
       "      <td>0.591000</td>\n",
       "      <td>0.624</td>\n",
       "      <td>0.724</td>\n",
       "      <td>0.000008</td>\n",
       "      <td>0.1010</td>\n",
       "      <td>-7.113</td>\n",
       "      <td>0.1010</td>\n",
       "      <td>78.008</td>\n",
       "      <td>0.624</td>\n",
       "      <td>shlumpy shwednesday</td>\n",
       "    </tr>\n",
       "    <tr>\n",
       "      <th>8</th>\n",
       "      <td>Say</td>\n",
       "      <td>John Mayer</td>\n",
       "      <td>spotify:track:6wZI4mdT8JwXgkGURnBQiq</td>\n",
       "      <td>0.541000</td>\n",
       "      <td>0.485</td>\n",
       "      <td>0.723</td>\n",
       "      <td>0.000001</td>\n",
       "      <td>0.0750</td>\n",
       "      <td>-6.565</td>\n",
       "      <td>0.0317</td>\n",
       "      <td>167.845</td>\n",
       "      <td>0.541</td>\n",
       "      <td>shlumpy shwednesday</td>\n",
       "    </tr>\n",
       "    <tr>\n",
       "      <th>9</th>\n",
       "      <td>Only Love</td>\n",
       "      <td>Ben Howard</td>\n",
       "      <td>spotify:track:2uhEKg8kIzpdvz4gyy6x8W</td>\n",
       "      <td>0.300000</td>\n",
       "      <td>0.545</td>\n",
       "      <td>0.485</td>\n",
       "      <td>0.001370</td>\n",
       "      <td>0.1190</td>\n",
       "      <td>-9.941</td>\n",
       "      <td>0.1510</td>\n",
       "      <td>80.401</td>\n",
       "      <td>0.341</td>\n",
       "      <td>shlumpy shwednesday</td>\n",
       "    </tr>\n",
       "    <tr>\n",
       "      <th>10</th>\n",
       "      <td>Hide Away</td>\n",
       "      <td>Daya</td>\n",
       "      <td>spotify:track:2hsza71y54ABzmabyNDtM4</td>\n",
       "      <td>0.222000</td>\n",
       "      <td>0.884</td>\n",
       "      <td>0.826</td>\n",
       "      <td>0.000002</td>\n",
       "      <td>0.0719</td>\n",
       "      <td>-3.672</td>\n",
       "      <td>0.0853</td>\n",
       "      <td>94.997</td>\n",
       "      <td>0.465</td>\n",
       "      <td>shlumpy shwednesday</td>\n",
       "    </tr>\n",
       "    <tr>\n",
       "      <th>11</th>\n",
       "      <td>Almost (Sweet Music)</td>\n",
       "      <td>Hozier</td>\n",
       "      <td>spotify:track:5Apvsk0suoivI1H8CmBglv</td>\n",
       "      <td>0.021500</td>\n",
       "      <td>0.523</td>\n",
       "      <td>0.687</td>\n",
       "      <td>0.000003</td>\n",
       "      <td>0.2030</td>\n",
       "      <td>-5.601</td>\n",
       "      <td>0.1050</td>\n",
       "      <td>90.036</td>\n",
       "      <td>0.711</td>\n",
       "      <td>shlumpy shwednesday</td>\n",
       "    </tr>\n",
       "    <tr>\n",
       "      <th>12</th>\n",
       "      <td>Burning</td>\n",
       "      <td>Maggie Rogers</td>\n",
       "      <td>spotify:track:68vxG1i6RSmrsY9mRdqDgG</td>\n",
       "      <td>0.210000</td>\n",
       "      <td>0.735</td>\n",
       "      <td>0.688</td>\n",
       "      <td>0.000031</td>\n",
       "      <td>0.1060</td>\n",
       "      <td>-5.471</td>\n",
       "      <td>0.1040</td>\n",
       "      <td>110.045</td>\n",
       "      <td>0.282</td>\n",
       "      <td>shlumpy shwednesday</td>\n",
       "    </tr>\n",
       "    <tr>\n",
       "      <th>13</th>\n",
       "      <td>Chicagoland</td>\n",
       "      <td>Magic Man</td>\n",
       "      <td>spotify:track:2ex3s6HPuH8EeCL5hKYV4Z</td>\n",
       "      <td>0.002430</td>\n",
       "      <td>0.504</td>\n",
       "      <td>0.908</td>\n",
       "      <td>0.000024</td>\n",
       "      <td>0.0646</td>\n",
       "      <td>-5.559</td>\n",
       "      <td>0.0350</td>\n",
       "      <td>92.083</td>\n",
       "      <td>0.341</td>\n",
       "      <td>shlumpy shwednesday</td>\n",
       "    </tr>\n",
       "    <tr>\n",
       "      <th>14</th>\n",
       "      <td>JDNT</td>\n",
       "      <td>Glass Animals</td>\n",
       "      <td>spotify:track:0UAsTdeDE8UbXBOHQD1Hri</td>\n",
       "      <td>0.152000</td>\n",
       "      <td>0.486</td>\n",
       "      <td>0.490</td>\n",
       "      <td>0.000000</td>\n",
       "      <td>0.0778</td>\n",
       "      <td>-12.393</td>\n",
       "      <td>0.0347</td>\n",
       "      <td>148.976</td>\n",
       "      <td>0.235</td>\n",
       "      <td>shlumpy shwednesday</td>\n",
       "    </tr>\n",
       "    <tr>\n",
       "      <th>15</th>\n",
       "      <td>Sleepyhead</td>\n",
       "      <td>Passion Pit</td>\n",
       "      <td>spotify:track:4prEPl61C8qZpeo3IkYSMl</td>\n",
       "      <td>0.089200</td>\n",
       "      <td>0.568</td>\n",
       "      <td>0.719</td>\n",
       "      <td>0.000002</td>\n",
       "      <td>0.2330</td>\n",
       "      <td>-5.406</td>\n",
       "      <td>0.0354</td>\n",
       "      <td>106.036</td>\n",
       "      <td>0.539</td>\n",
       "      <td>shlumpy shwednesday</td>\n",
       "    </tr>\n",
       "    <tr>\n",
       "      <th>16</th>\n",
       "      <td>Rivers and Roads</td>\n",
       "      <td>The Head And The Heart</td>\n",
       "      <td>spotify:track:7d1GPc45c9wtmYxNSwLXTy</td>\n",
       "      <td>0.707000</td>\n",
       "      <td>0.501</td>\n",
       "      <td>0.177</td>\n",
       "      <td>0.000032</td>\n",
       "      <td>0.0762</td>\n",
       "      <td>-9.795</td>\n",
       "      <td>0.0345</td>\n",
       "      <td>131.183</td>\n",
       "      <td>0.190</td>\n",
       "      <td>shlumpy shwednesday</td>\n",
       "    </tr>\n",
       "    <tr>\n",
       "      <th>17</th>\n",
       "      <td>Home - 2019 - Remaster</td>\n",
       "      <td>Edward Sharpe &amp; The Magnetic Zeros</td>\n",
       "      <td>spotify:track:7KWGfnsUU4Ri46TIvjpAPx</td>\n",
       "      <td>0.249000</td>\n",
       "      <td>0.530</td>\n",
       "      <td>0.634</td>\n",
       "      <td>0.000622</td>\n",
       "      <td>0.0979</td>\n",
       "      <td>-5.759</td>\n",
       "      <td>0.0311</td>\n",
       "      <td>111.615</td>\n",
       "      <td>0.106</td>\n",
       "      <td>shlumpy shwednesday</td>\n",
       "    </tr>\n",
       "    <tr>\n",
       "      <th>18</th>\n",
       "      <td>Cecilia And The Satellite</td>\n",
       "      <td>Andrew McMahon in the Wilderness</td>\n",
       "      <td>spotify:track:1MSM3Fo2fvnwVqMcz8Jhjq</td>\n",
       "      <td>0.013100</td>\n",
       "      <td>0.381</td>\n",
       "      <td>0.844</td>\n",
       "      <td>0.000000</td>\n",
       "      <td>0.3180</td>\n",
       "      <td>-7.123</td>\n",
       "      <td>0.1440</td>\n",
       "      <td>194.000</td>\n",
       "      <td>0.239</td>\n",
       "      <td>shlumpy shwednesday</td>\n",
       "    </tr>\n",
       "    <tr>\n",
       "      <th>19</th>\n",
       "      <td>10,000 Emerald Pools</td>\n",
       "      <td>BØRNS</td>\n",
       "      <td>spotify:track:2pA4ip3VIEVcIa3qE02oAX</td>\n",
       "      <td>0.006940</td>\n",
       "      <td>0.568</td>\n",
       "      <td>0.578</td>\n",
       "      <td>0.000353</td>\n",
       "      <td>0.0990</td>\n",
       "      <td>-5.589</td>\n",
       "      <td>0.0404</td>\n",
       "      <td>139.951</td>\n",
       "      <td>0.555</td>\n",
       "      <td>shlumpy shwednesday</td>\n",
       "    </tr>\n",
       "    <tr>\n",
       "      <th>20</th>\n",
       "      <td>Air</td>\n",
       "      <td>Cub Sport</td>\n",
       "      <td>spotify:track:4tPDYI47C2Hu7gCgrxLtbv</td>\n",
       "      <td>0.369000</td>\n",
       "      <td>0.387</td>\n",
       "      <td>0.823</td>\n",
       "      <td>0.720000</td>\n",
       "      <td>0.1180</td>\n",
       "      <td>-9.929</td>\n",
       "      <td>0.0370</td>\n",
       "      <td>120.013</td>\n",
       "      <td>0.308</td>\n",
       "      <td>shlumpy shwednesday</td>\n",
       "    </tr>\n",
       "    <tr>\n",
       "      <th>21</th>\n",
       "      <td>Canary Islands</td>\n",
       "      <td>Goth Babe</td>\n",
       "      <td>spotify:track:7MuU7UbVaKyu4HkHBoHwrD</td>\n",
       "      <td>0.028000</td>\n",
       "      <td>0.577</td>\n",
       "      <td>0.683</td>\n",
       "      <td>0.003290</td>\n",
       "      <td>0.1560</td>\n",
       "      <td>-7.699</td>\n",
       "      <td>0.0523</td>\n",
       "      <td>115.058</td>\n",
       "      <td>0.728</td>\n",
       "      <td>shlumpy shwednesday</td>\n",
       "    </tr>\n",
       "    <tr>\n",
       "      <th>22</th>\n",
       "      <td>With Me All Along</td>\n",
       "      <td>Bronze Radio Return</td>\n",
       "      <td>spotify:track:407tDPFK5oB7hxSDl5Tg4O</td>\n",
       "      <td>0.250000</td>\n",
       "      <td>0.604</td>\n",
       "      <td>0.721</td>\n",
       "      <td>0.105000</td>\n",
       "      <td>0.4260</td>\n",
       "      <td>-6.559</td>\n",
       "      <td>0.0319</td>\n",
       "      <td>79.060</td>\n",
       "      <td>0.426</td>\n",
       "      <td>shlumpy shwednesday</td>\n",
       "    </tr>\n",
       "    <tr>\n",
       "      <th>23</th>\n",
       "      <td>Spoonful</td>\n",
       "      <td>Grizfolk</td>\n",
       "      <td>spotify:track:5Js5edLzibx0GcazYl7v85</td>\n",
       "      <td>0.090500</td>\n",
       "      <td>0.588</td>\n",
       "      <td>0.666</td>\n",
       "      <td>0.000000</td>\n",
       "      <td>0.0667</td>\n",
       "      <td>-6.467</td>\n",
       "      <td>0.0390</td>\n",
       "      <td>126.753</td>\n",
       "      <td>0.439</td>\n",
       "      <td>shlumpy shwednesday</td>\n",
       "    </tr>\n",
       "    <tr>\n",
       "      <th>24</th>\n",
       "      <td>Hello My Old Heart</td>\n",
       "      <td>The Oh Hellos</td>\n",
       "      <td>spotify:track:2c62Xf5Po1YSa1N6LOjPHy</td>\n",
       "      <td>0.624000</td>\n",
       "      <td>0.557</td>\n",
       "      <td>0.299</td>\n",
       "      <td>0.030800</td>\n",
       "      <td>0.0914</td>\n",
       "      <td>-10.634</td>\n",
       "      <td>0.0266</td>\n",
       "      <td>90.081</td>\n",
       "      <td>0.297</td>\n",
       "      <td>shlumpy shwednesday</td>\n",
       "    </tr>\n",
       "    <tr>\n",
       "      <th>25</th>\n",
       "      <td>Take on Me - Kygo Remix</td>\n",
       "      <td>a-ha</td>\n",
       "      <td>spotify:track:5UHuuQGEgMbZrYnHjQG9ny</td>\n",
       "      <td>0.159000</td>\n",
       "      <td>0.535</td>\n",
       "      <td>0.780</td>\n",
       "      <td>0.000761</td>\n",
       "      <td>0.1370</td>\n",
       "      <td>-6.008</td>\n",
       "      <td>0.1130</td>\n",
       "      <td>179.964</td>\n",
       "      <td>0.622</td>\n",
       "      <td>shlumpy shwednesday</td>\n",
       "    </tr>\n",
       "    <tr>\n",
       "      <th>26</th>\n",
       "      <td>Pictures of Girls</td>\n",
       "      <td>Wallows</td>\n",
       "      <td>spotify:track:415dK4glwDO7fXxYg3np8B</td>\n",
       "      <td>0.000248</td>\n",
       "      <td>0.443</td>\n",
       "      <td>0.819</td>\n",
       "      <td>0.007590</td>\n",
       "      <td>0.0802</td>\n",
       "      <td>-5.502</td>\n",
       "      <td>0.0322</td>\n",
       "      <td>154.958</td>\n",
       "      <td>0.494</td>\n",
       "      <td>shlumpy shwednesday</td>\n",
       "    </tr>\n",
       "    <tr>\n",
       "      <th>27</th>\n",
       "      <td>Lovers Rock</td>\n",
       "      <td>TV Girl</td>\n",
       "      <td>spotify:track:1H7zdcRD0gLGQY0w5ejGgX</td>\n",
       "      <td>0.000008</td>\n",
       "      <td>0.559</td>\n",
       "      <td>0.871</td>\n",
       "      <td>0.005240</td>\n",
       "      <td>0.0960</td>\n",
       "      <td>-5.338</td>\n",
       "      <td>0.0392</td>\n",
       "      <td>104.976</td>\n",
       "      <td>0.573</td>\n",
       "      <td>shlumpy shwednesday</td>\n",
       "    </tr>\n",
       "    <tr>\n",
       "      <th>28</th>\n",
       "      <td>If So</td>\n",
       "      <td>Atlas Genius</td>\n",
       "      <td>spotify:track:5yUXyXZSG80niT5hkh7ucf</td>\n",
       "      <td>0.000177</td>\n",
       "      <td>0.646</td>\n",
       "      <td>0.698</td>\n",
       "      <td>0.000003</td>\n",
       "      <td>0.3230</td>\n",
       "      <td>-5.019</td>\n",
       "      <td>0.0345</td>\n",
       "      <td>125.022</td>\n",
       "      <td>0.645</td>\n",
       "      <td>shlumpy shwednesday</td>\n",
       "    </tr>\n",
       "    <tr>\n",
       "      <th>29</th>\n",
       "      <td>Sometimes Things Just Fall Apart</td>\n",
       "      <td>Rence</td>\n",
       "      <td>spotify:track:3xijzRdlKYMuEQDVZTYlg9</td>\n",
       "      <td>0.253000</td>\n",
       "      <td>0.697</td>\n",
       "      <td>0.530</td>\n",
       "      <td>0.000000</td>\n",
       "      <td>0.5980</td>\n",
       "      <td>-7.474</td>\n",
       "      <td>0.0413</td>\n",
       "      <td>117.971</td>\n",
       "      <td>0.408</td>\n",
       "      <td>shlumpy shwednesday</td>\n",
       "    </tr>\n",
       "    <tr>\n",
       "      <th>30</th>\n",
       "      <td>Breakeven</td>\n",
       "      <td>The Script</td>\n",
       "      <td>spotify:track:38xWaVFKaxZlMFvzNff2aW</td>\n",
       "      <td>0.174000</td>\n",
       "      <td>0.627</td>\n",
       "      <td>0.699</td>\n",
       "      <td>0.000000</td>\n",
       "      <td>0.0789</td>\n",
       "      <td>-4.504</td>\n",
       "      <td>0.0244</td>\n",
       "      <td>94.003</td>\n",
       "      <td>0.535</td>\n",
       "      <td>shlumpy shwednesday</td>\n",
       "    </tr>\n",
       "    <tr>\n",
       "      <th>31</th>\n",
       "      <td>Turn! Turn! Turn! (To Everything There Is a Se...</td>\n",
       "      <td>The Byrds</td>\n",
       "      <td>spotify:track:5qBqBdfTEIWJwAS0Jm2F5R</td>\n",
       "      <td>0.135000</td>\n",
       "      <td>0.451</td>\n",
       "      <td>0.818</td>\n",
       "      <td>0.000029</td>\n",
       "      <td>0.0520</td>\n",
       "      <td>-8.124</td>\n",
       "      <td>0.0439</td>\n",
       "      <td>124.532</td>\n",
       "      <td>0.755</td>\n",
       "      <td>shlumpy shwednesday</td>\n",
       "    </tr>\n",
       "    <tr>\n",
       "      <th>32</th>\n",
       "      <td>The Beautiful Game</td>\n",
       "      <td>RAC</td>\n",
       "      <td>spotify:track:1kRTlW6idFA2IGhJrMmiyF</td>\n",
       "      <td>0.374000</td>\n",
       "      <td>0.443</td>\n",
       "      <td>0.643</td>\n",
       "      <td>0.000106</td>\n",
       "      <td>0.1000</td>\n",
       "      <td>-6.519</td>\n",
       "      <td>0.0386</td>\n",
       "      <td>105.000</td>\n",
       "      <td>0.451</td>\n",
       "      <td>shlumpy shwednesday</td>\n",
       "    </tr>\n",
       "    <tr>\n",
       "      <th>33</th>\n",
       "      <td>Cry Cry Cry</td>\n",
       "      <td>Coldplay</td>\n",
       "      <td>spotify:track:4Kwhm5VU4huxmQtBqd1AXo</td>\n",
       "      <td>0.890000</td>\n",
       "      <td>0.491</td>\n",
       "      <td>0.262</td>\n",
       "      <td>0.288000</td>\n",
       "      <td>0.2070</td>\n",
       "      <td>-10.458</td>\n",
       "      <td>0.0572</td>\n",
       "      <td>204.520</td>\n",
       "      <td>0.338</td>\n",
       "      <td>shlumpy shwednesday</td>\n",
       "    </tr>\n",
       "    <tr>\n",
       "      <th>34</th>\n",
       "      <td>Midnight</td>\n",
       "      <td>Toby Sebastian</td>\n",
       "      <td>spotify:track:4gqnJeeFu2GbOnHawPjWHn</td>\n",
       "      <td>0.583000</td>\n",
       "      <td>0.732</td>\n",
       "      <td>0.406</td>\n",
       "      <td>0.000023</td>\n",
       "      <td>0.0880</td>\n",
       "      <td>-7.330</td>\n",
       "      <td>0.0343</td>\n",
       "      <td>117.903</td>\n",
       "      <td>0.584</td>\n",
       "      <td>shlumpy shwednesday</td>\n",
       "    </tr>\n",
       "    <tr>\n",
       "      <th>35</th>\n",
       "      <td>Chariot</td>\n",
       "      <td>Mega</td>\n",
       "      <td>spotify:track:1eOuuW7VHBrIpwQ8drsPQN</td>\n",
       "      <td>0.844000</td>\n",
       "      <td>0.736</td>\n",
       "      <td>0.346</td>\n",
       "      <td>0.122000</td>\n",
       "      <td>0.1230</td>\n",
       "      <td>-7.926</td>\n",
       "      <td>0.0267</td>\n",
       "      <td>92.006</td>\n",
       "      <td>0.233</td>\n",
       "      <td>shlumpy shwednesday</td>\n",
       "    </tr>\n",
       "  </tbody>\n",
       "</table>\n",
       "</div>"
      ],
      "text/plain": [
       "                                                 name  \\\n",
       "0                                    A Million Doubts   \n",
       "1                                 Hold Back The River   \n",
       "2                      Waiting On the World to Change   \n",
       "3                                  Come On Get Higher   \n",
       "4                                      Rhythm Of Love   \n",
       "5                                            New Soul   \n",
       "6                                        Mess Is Mine   \n",
       "7                                                Step   \n",
       "8                                                 Say   \n",
       "9                                           Only Love   \n",
       "10                                          Hide Away   \n",
       "11                               Almost (Sweet Music)   \n",
       "12                                            Burning   \n",
       "13                                        Chicagoland   \n",
       "14                                               JDNT   \n",
       "15                                         Sleepyhead   \n",
       "16                                   Rivers and Roads   \n",
       "17                             Home - 2019 - Remaster   \n",
       "18                          Cecilia And The Satellite   \n",
       "19                               10,000 Emerald Pools   \n",
       "20                                                Air   \n",
       "21                                     Canary Islands   \n",
       "22                                  With Me All Along   \n",
       "23                                           Spoonful   \n",
       "24                                 Hello My Old Heart   \n",
       "25                            Take on Me - Kygo Remix   \n",
       "26                                  Pictures of Girls   \n",
       "27                                        Lovers Rock   \n",
       "28                                              If So   \n",
       "29                   Sometimes Things Just Fall Apart   \n",
       "30                                          Breakeven   \n",
       "31  Turn! Turn! Turn! (To Everything There Is a Se...   \n",
       "32                                 The Beautiful Game   \n",
       "33                                        Cry Cry Cry   \n",
       "34                                           Midnight   \n",
       "35                                            Chariot   \n",
       "\n",
       "                                artist                             track_URI  \\\n",
       "0                              Glassio  spotify:track:4fb2SOMtpKsleLxBcUrKzW   \n",
       "1                            James Bay  spotify:track:7tmtOEDxPN7CWaQWBsG1DY   \n",
       "2                           John Mayer  spotify:track:5imShWWzwqfAJ9gXFpGAQh   \n",
       "3                       Matt Nathanson  spotify:track:38YgZVHPWOWsKrsCXz6JyP   \n",
       "4                      Plain White T's  spotify:track:6MDTpYxPFL0wtFd0pjfKws   \n",
       "5                            Yael Naim  spotify:track:476JcJ3TpAuCOlGdCmomGm   \n",
       "6                            Vance Joy  spotify:track:7BVwi9cIzSc6tpyxsp47vJ   \n",
       "7                      Vampire Weekend  spotify:track:78J9MBkAoqfvyeEpQKJDzD   \n",
       "8                           John Mayer  spotify:track:6wZI4mdT8JwXgkGURnBQiq   \n",
       "9                           Ben Howard  spotify:track:2uhEKg8kIzpdvz4gyy6x8W   \n",
       "10                                Daya  spotify:track:2hsza71y54ABzmabyNDtM4   \n",
       "11                              Hozier  spotify:track:5Apvsk0suoivI1H8CmBglv   \n",
       "12                       Maggie Rogers  spotify:track:68vxG1i6RSmrsY9mRdqDgG   \n",
       "13                           Magic Man  spotify:track:2ex3s6HPuH8EeCL5hKYV4Z   \n",
       "14                       Glass Animals  spotify:track:0UAsTdeDE8UbXBOHQD1Hri   \n",
       "15                         Passion Pit  spotify:track:4prEPl61C8qZpeo3IkYSMl   \n",
       "16              The Head And The Heart  spotify:track:7d1GPc45c9wtmYxNSwLXTy   \n",
       "17  Edward Sharpe & The Magnetic Zeros  spotify:track:7KWGfnsUU4Ri46TIvjpAPx   \n",
       "18    Andrew McMahon in the Wilderness  spotify:track:1MSM3Fo2fvnwVqMcz8Jhjq   \n",
       "19                               BØRNS  spotify:track:2pA4ip3VIEVcIa3qE02oAX   \n",
       "20                           Cub Sport  spotify:track:4tPDYI47C2Hu7gCgrxLtbv   \n",
       "21                           Goth Babe  spotify:track:7MuU7UbVaKyu4HkHBoHwrD   \n",
       "22                 Bronze Radio Return  spotify:track:407tDPFK5oB7hxSDl5Tg4O   \n",
       "23                            Grizfolk  spotify:track:5Js5edLzibx0GcazYl7v85   \n",
       "24                       The Oh Hellos  spotify:track:2c62Xf5Po1YSa1N6LOjPHy   \n",
       "25                                a-ha  spotify:track:5UHuuQGEgMbZrYnHjQG9ny   \n",
       "26                             Wallows  spotify:track:415dK4glwDO7fXxYg3np8B   \n",
       "27                             TV Girl  spotify:track:1H7zdcRD0gLGQY0w5ejGgX   \n",
       "28                        Atlas Genius  spotify:track:5yUXyXZSG80niT5hkh7ucf   \n",
       "29                               Rence  spotify:track:3xijzRdlKYMuEQDVZTYlg9   \n",
       "30                          The Script  spotify:track:38xWaVFKaxZlMFvzNff2aW   \n",
       "31                           The Byrds  spotify:track:5qBqBdfTEIWJwAS0Jm2F5R   \n",
       "32                                 RAC  spotify:track:1kRTlW6idFA2IGhJrMmiyF   \n",
       "33                            Coldplay  spotify:track:4Kwhm5VU4huxmQtBqd1AXo   \n",
       "34                      Toby Sebastian  spotify:track:4gqnJeeFu2GbOnHawPjWHn   \n",
       "35                                Mega  spotify:track:1eOuuW7VHBrIpwQ8drsPQN   \n",
       "\n",
       "    acousticness  danceability  energy  instrumentalness  liveness  loudness  \\\n",
       "0       0.295000         0.500   0.886          0.862000    0.1050    -6.171   \n",
       "1       0.052600         0.715   0.715          0.000000    0.0936    -7.364   \n",
       "2       0.157000         0.578   0.756          0.000232    0.2490    -5.820   \n",
       "3       0.241000         0.672   0.623          0.000000    0.0848    -5.699   \n",
       "4       0.356000         0.531   0.542          0.000000    0.1190    -7.721   \n",
       "5       0.733000         0.769   0.371          0.000037    0.1060    -8.522   \n",
       "6       0.047000         0.595   0.723          0.028600    0.0995    -8.256   \n",
       "7       0.591000         0.624   0.724          0.000008    0.1010    -7.113   \n",
       "8       0.541000         0.485   0.723          0.000001    0.0750    -6.565   \n",
       "9       0.300000         0.545   0.485          0.001370    0.1190    -9.941   \n",
       "10      0.222000         0.884   0.826          0.000002    0.0719    -3.672   \n",
       "11      0.021500         0.523   0.687          0.000003    0.2030    -5.601   \n",
       "12      0.210000         0.735   0.688          0.000031    0.1060    -5.471   \n",
       "13      0.002430         0.504   0.908          0.000024    0.0646    -5.559   \n",
       "14      0.152000         0.486   0.490          0.000000    0.0778   -12.393   \n",
       "15      0.089200         0.568   0.719          0.000002    0.2330    -5.406   \n",
       "16      0.707000         0.501   0.177          0.000032    0.0762    -9.795   \n",
       "17      0.249000         0.530   0.634          0.000622    0.0979    -5.759   \n",
       "18      0.013100         0.381   0.844          0.000000    0.3180    -7.123   \n",
       "19      0.006940         0.568   0.578          0.000353    0.0990    -5.589   \n",
       "20      0.369000         0.387   0.823          0.720000    0.1180    -9.929   \n",
       "21      0.028000         0.577   0.683          0.003290    0.1560    -7.699   \n",
       "22      0.250000         0.604   0.721          0.105000    0.4260    -6.559   \n",
       "23      0.090500         0.588   0.666          0.000000    0.0667    -6.467   \n",
       "24      0.624000         0.557   0.299          0.030800    0.0914   -10.634   \n",
       "25      0.159000         0.535   0.780          0.000761    0.1370    -6.008   \n",
       "26      0.000248         0.443   0.819          0.007590    0.0802    -5.502   \n",
       "27      0.000008         0.559   0.871          0.005240    0.0960    -5.338   \n",
       "28      0.000177         0.646   0.698          0.000003    0.3230    -5.019   \n",
       "29      0.253000         0.697   0.530          0.000000    0.5980    -7.474   \n",
       "30      0.174000         0.627   0.699          0.000000    0.0789    -4.504   \n",
       "31      0.135000         0.451   0.818          0.000029    0.0520    -8.124   \n",
       "32      0.374000         0.443   0.643          0.000106    0.1000    -6.519   \n",
       "33      0.890000         0.491   0.262          0.288000    0.2070   -10.458   \n",
       "34      0.583000         0.732   0.406          0.000023    0.0880    -7.330   \n",
       "35      0.844000         0.736   0.346          0.122000    0.1230    -7.926   \n",
       "\n",
       "    speechiness    tempo  valence             playlist  \n",
       "0        0.0430  177.949    0.310  shlumpy shwednesday  \n",
       "1        0.0904  134.923    0.506  shlumpy shwednesday  \n",
       "2        0.1150  176.739    0.663  shlumpy shwednesday  \n",
       "3        0.0297   92.018    0.617  shlumpy shwednesday  \n",
       "4        0.0432  171.878    0.726  shlumpy shwednesday  \n",
       "5        0.0326  100.001    0.653  shlumpy shwednesday  \n",
       "6        0.0349  108.043    0.272  shlumpy shwednesday  \n",
       "7        0.1010   78.008    0.624  shlumpy shwednesday  \n",
       "8        0.0317  167.845    0.541  shlumpy shwednesday  \n",
       "9        0.1510   80.401    0.341  shlumpy shwednesday  \n",
       "10       0.0853   94.997    0.465  shlumpy shwednesday  \n",
       "11       0.1050   90.036    0.711  shlumpy shwednesday  \n",
       "12       0.1040  110.045    0.282  shlumpy shwednesday  \n",
       "13       0.0350   92.083    0.341  shlumpy shwednesday  \n",
       "14       0.0347  148.976    0.235  shlumpy shwednesday  \n",
       "15       0.0354  106.036    0.539  shlumpy shwednesday  \n",
       "16       0.0345  131.183    0.190  shlumpy shwednesday  \n",
       "17       0.0311  111.615    0.106  shlumpy shwednesday  \n",
       "18       0.1440  194.000    0.239  shlumpy shwednesday  \n",
       "19       0.0404  139.951    0.555  shlumpy shwednesday  \n",
       "20       0.0370  120.013    0.308  shlumpy shwednesday  \n",
       "21       0.0523  115.058    0.728  shlumpy shwednesday  \n",
       "22       0.0319   79.060    0.426  shlumpy shwednesday  \n",
       "23       0.0390  126.753    0.439  shlumpy shwednesday  \n",
       "24       0.0266   90.081    0.297  shlumpy shwednesday  \n",
       "25       0.1130  179.964    0.622  shlumpy shwednesday  \n",
       "26       0.0322  154.958    0.494  shlumpy shwednesday  \n",
       "27       0.0392  104.976    0.573  shlumpy shwednesday  \n",
       "28       0.0345  125.022    0.645  shlumpy shwednesday  \n",
       "29       0.0413  117.971    0.408  shlumpy shwednesday  \n",
       "30       0.0244   94.003    0.535  shlumpy shwednesday  \n",
       "31       0.0439  124.532    0.755  shlumpy shwednesday  \n",
       "32       0.0386  105.000    0.451  shlumpy shwednesday  \n",
       "33       0.0572  204.520    0.338  shlumpy shwednesday  \n",
       "34       0.0343  117.903    0.584  shlumpy shwednesday  \n",
       "35       0.0267   92.006    0.233  shlumpy shwednesday  "
      ]
     },
     "metadata": {},
     "execution_count": 9
    }
   ],
   "metadata": {
    "ExecuteTime": {
     "end_time": "2020-12-30T18:43:42.438456Z",
     "start_time": "2020-12-30T18:42:58.104613Z"
    },
    "tags": []
   }
  },
  {
   "cell_type": "code",
   "execution_count": 10,
   "source": [
    "sp = spotipy.Spotify(auth=get_token('user-top-read'))\n",
    "\n",
    "df = pd.DataFrame(columns=['track_name', 'artist', 'track_URI', 'acousticness', 'danceability', 'energy', 'instrumentalness', 'liveness', 'loudness', 'speechiness', 'tempo', 'valence'])\n",
    "\n",
    "top_artists = [x for x in sp.current_user_top_artists(limit=10, time_range='short_term')['items']]\n",
    "artist_queue=[*top_artists]\n",
    "\n",
    "while len(df) < 2000 and artist_queue:\n",
    "        artist = artist_queue.pop(0)\n",
    "        if artist['name'] in df['artist'].unique():\n",
    "                continue\n",
    "        related_artists = sp.artist_related_artists(artist['uri'])\n",
    "        artist_queue.extend(related_artists['artists'])\n",
    "        artist_top_tracks = sp.artist_top_tracks(artist['uri'])\n",
    "        for track in artist_top_tracks['tracks'][:10]:\n",
    "                track_name = track['name']\n",
    "                artist = track['artists'][0]['name']\n",
    "                track_uri = track['uri']\n",
    "                \n",
    "                # access audio features for given track URI via spotipy\n",
    "                audio_features = sp.audio_features(track_uri)\n",
    "                \n",
    "                # get relevant audio features\n",
    "                feature_subset = [audio_features[0][col] for col in df.columns if col not in [\"track_name\", \"artist\", \"track_URI\"]]\n",
    "\n",
    "                # compose a row of the dataframe by flattening the list of audio features\n",
    "                row = [track_name, artist, track_uri, *feature_subset]\n",
    "                df.loc[len(df.index)] = row\n",
    "\n",
    "df"
   ],
   "outputs": [
    {
     "output_type": "execute_result",
     "data": {
      "text/html": [
       "<div>\n",
       "<style scoped>\n",
       "    .dataframe tbody tr th:only-of-type {\n",
       "        vertical-align: middle;\n",
       "    }\n",
       "\n",
       "    .dataframe tbody tr th {\n",
       "        vertical-align: top;\n",
       "    }\n",
       "\n",
       "    .dataframe thead th {\n",
       "        text-align: right;\n",
       "    }\n",
       "</style>\n",
       "<table border=\"1\" class=\"dataframe\">\n",
       "  <thead>\n",
       "    <tr style=\"text-align: right;\">\n",
       "      <th></th>\n",
       "      <th>track_name</th>\n",
       "      <th>artist</th>\n",
       "      <th>track_URI</th>\n",
       "      <th>acousticness</th>\n",
       "      <th>danceability</th>\n",
       "      <th>energy</th>\n",
       "      <th>instrumentalness</th>\n",
       "      <th>liveness</th>\n",
       "      <th>loudness</th>\n",
       "      <th>speechiness</th>\n",
       "      <th>tempo</th>\n",
       "      <th>valence</th>\n",
       "    </tr>\n",
       "  </thead>\n",
       "  <tbody>\n",
       "    <tr>\n",
       "      <th>0</th>\n",
       "      <td>False Confidence</td>\n",
       "      <td>Noah Kahan</td>\n",
       "      <td>spotify:track:7nDFTHHwfe32a8qdp9XqPy</td>\n",
       "      <td>0.16300</td>\n",
       "      <td>0.414</td>\n",
       "      <td>0.663</td>\n",
       "      <td>0</td>\n",
       "      <td>0.1380</td>\n",
       "      <td>-7.770</td>\n",
       "      <td>0.0456</td>\n",
       "      <td>108.980</td>\n",
       "      <td>0.330</td>\n",
       "    </tr>\n",
       "    <tr>\n",
       "      <th>1</th>\n",
       "      <td>Someone Like You (feat. Joy Oladokun)</td>\n",
       "      <td>Noah Kahan</td>\n",
       "      <td>spotify:track:0hiHNxqKGf3GZgVTIOAiiK</td>\n",
       "      <td>0.46800</td>\n",
       "      <td>0.614</td>\n",
       "      <td>0.526</td>\n",
       "      <td>0</td>\n",
       "      <td>0.0939</td>\n",
       "      <td>-7.492</td>\n",
       "      <td>0.0603</td>\n",
       "      <td>177.913</td>\n",
       "      <td>0.366</td>\n",
       "    </tr>\n",
       "    <tr>\n",
       "      <th>2</th>\n",
       "      <td>Hurt Somebody</td>\n",
       "      <td>Noah Kahan</td>\n",
       "      <td>spotify:track:2Zg0aB5oVQlbQE1vzQmIIY</td>\n",
       "      <td>0.34400</td>\n",
       "      <td>0.638</td>\n",
       "      <td>0.510</td>\n",
       "      <td>0</td>\n",
       "      <td>0.2120</td>\n",
       "      <td>-6.485</td>\n",
       "      <td>0.3050</td>\n",
       "      <td>114.576</td>\n",
       "      <td>0.448</td>\n",
       "    </tr>\n",
       "    <tr>\n",
       "      <th>3</th>\n",
       "      <td>Mess</td>\n",
       "      <td>Noah Kahan</td>\n",
       "      <td>spotify:track:1BlQWQgGP84r4GYUVty4Ar</td>\n",
       "      <td>0.17600</td>\n",
       "      <td>0.442</td>\n",
       "      <td>0.826</td>\n",
       "      <td>0</td>\n",
       "      <td>0.0978</td>\n",
       "      <td>-5.320</td>\n",
       "      <td>0.0775</td>\n",
       "      <td>80.848</td>\n",
       "      <td>0.601</td>\n",
       "    </tr>\n",
       "    <tr>\n",
       "      <th>4</th>\n",
       "      <td>Part of Me</td>\n",
       "      <td>Noah Kahan</td>\n",
       "      <td>spotify:track:1o5WgxPWvoVgo20DQItKOE</td>\n",
       "      <td>0.06770</td>\n",
       "      <td>0.689</td>\n",
       "      <td>0.687</td>\n",
       "      <td>0</td>\n",
       "      <td>0.0805</td>\n",
       "      <td>-7.832</td>\n",
       "      <td>0.0376</td>\n",
       "      <td>109.986</td>\n",
       "      <td>0.248</td>\n",
       "    </tr>\n",
       "    <tr>\n",
       "      <th>...</th>\n",
       "      <td>...</td>\n",
       "      <td>...</td>\n",
       "      <td>...</td>\n",
       "      <td>...</td>\n",
       "      <td>...</td>\n",
       "      <td>...</td>\n",
       "      <td>...</td>\n",
       "      <td>...</td>\n",
       "      <td>...</td>\n",
       "      <td>...</td>\n",
       "      <td>...</td>\n",
       "      <td>...</td>\n",
       "    </tr>\n",
       "    <tr>\n",
       "      <th>2003</th>\n",
       "      <td>Put Your Hands Up</td>\n",
       "      <td>Forest Blakk</td>\n",
       "      <td>spotify:track:57X2jAov78d6K39SOWJqaJ</td>\n",
       "      <td>0.18400</td>\n",
       "      <td>0.627</td>\n",
       "      <td>0.653</td>\n",
       "      <td>4.29e-05</td>\n",
       "      <td>0.0958</td>\n",
       "      <td>-7.291</td>\n",
       "      <td>0.0476</td>\n",
       "      <td>124.999</td>\n",
       "      <td>0.388</td>\n",
       "    </tr>\n",
       "    <tr>\n",
       "      <th>2004</th>\n",
       "      <td>If You Love Her - Acoustic</td>\n",
       "      <td>Forest Blakk</td>\n",
       "      <td>spotify:track:615LwsUs7WA2KvSRRmXAUK</td>\n",
       "      <td>0.85200</td>\n",
       "      <td>0.516</td>\n",
       "      <td>0.257</td>\n",
       "      <td>0</td>\n",
       "      <td>0.1100</td>\n",
       "      <td>-11.063</td>\n",
       "      <td>0.0331</td>\n",
       "      <td>153.617</td>\n",
       "      <td>0.444</td>\n",
       "    </tr>\n",
       "    <tr>\n",
       "      <th>2005</th>\n",
       "      <td>If You Love Her - Mark McCabe Remix</td>\n",
       "      <td>Forest Blakk</td>\n",
       "      <td>spotify:track:2MaGdDg1cbXTywMf93cEZt</td>\n",
       "      <td>0.00179</td>\n",
       "      <td>0.587</td>\n",
       "      <td>0.806</td>\n",
       "      <td>1.56e-06</td>\n",
       "      <td>0.0928</td>\n",
       "      <td>-5.098</td>\n",
       "      <td>0.0344</td>\n",
       "      <td>122.971</td>\n",
       "      <td>0.404</td>\n",
       "    </tr>\n",
       "    <tr>\n",
       "      <th>2006</th>\n",
       "      <td>I Wish I Knew</td>\n",
       "      <td>Forest Blakk</td>\n",
       "      <td>spotify:track:59fi2USYlHpzOOfjlPenJI</td>\n",
       "      <td>0.64600</td>\n",
       "      <td>0.575</td>\n",
       "      <td>0.566</td>\n",
       "      <td>0</td>\n",
       "      <td>0.2440</td>\n",
       "      <td>-7.417</td>\n",
       "      <td>0.0233</td>\n",
       "      <td>107.033</td>\n",
       "      <td>0.294</td>\n",
       "    </tr>\n",
       "    <tr>\n",
       "      <th>2007</th>\n",
       "      <td>Foolish</td>\n",
       "      <td>Forest Blakk</td>\n",
       "      <td>spotify:track:1vf2fGxOHfMF1N4DdYLezO</td>\n",
       "      <td>0.55600</td>\n",
       "      <td>0.559</td>\n",
       "      <td>0.521</td>\n",
       "      <td>0</td>\n",
       "      <td>0.1120</td>\n",
       "      <td>-7.916</td>\n",
       "      <td>0.0308</td>\n",
       "      <td>76.541</td>\n",
       "      <td>0.278</td>\n",
       "    </tr>\n",
       "  </tbody>\n",
       "</table>\n",
       "<p>2008 rows × 12 columns</p>\n",
       "</div>"
      ],
      "text/plain": [
       "                                 track_name        artist  \\\n",
       "0                          False Confidence    Noah Kahan   \n",
       "1     Someone Like You (feat. Joy Oladokun)    Noah Kahan   \n",
       "2                             Hurt Somebody    Noah Kahan   \n",
       "3                                      Mess    Noah Kahan   \n",
       "4                                Part of Me    Noah Kahan   \n",
       "...                                     ...           ...   \n",
       "2003                      Put Your Hands Up  Forest Blakk   \n",
       "2004             If You Love Her - Acoustic  Forest Blakk   \n",
       "2005    If You Love Her - Mark McCabe Remix  Forest Blakk   \n",
       "2006                          I Wish I Knew  Forest Blakk   \n",
       "2007                                Foolish  Forest Blakk   \n",
       "\n",
       "                                 track_URI  acousticness  danceability  \\\n",
       "0     spotify:track:7nDFTHHwfe32a8qdp9XqPy       0.16300         0.414   \n",
       "1     spotify:track:0hiHNxqKGf3GZgVTIOAiiK       0.46800         0.614   \n",
       "2     spotify:track:2Zg0aB5oVQlbQE1vzQmIIY       0.34400         0.638   \n",
       "3     spotify:track:1BlQWQgGP84r4GYUVty4Ar       0.17600         0.442   \n",
       "4     spotify:track:1o5WgxPWvoVgo20DQItKOE       0.06770         0.689   \n",
       "...                                    ...           ...           ...   \n",
       "2003  spotify:track:57X2jAov78d6K39SOWJqaJ       0.18400         0.627   \n",
       "2004  spotify:track:615LwsUs7WA2KvSRRmXAUK       0.85200         0.516   \n",
       "2005  spotify:track:2MaGdDg1cbXTywMf93cEZt       0.00179         0.587   \n",
       "2006  spotify:track:59fi2USYlHpzOOfjlPenJI       0.64600         0.575   \n",
       "2007  spotify:track:1vf2fGxOHfMF1N4DdYLezO       0.55600         0.559   \n",
       "\n",
       "      energy instrumentalness  liveness  loudness  speechiness    tempo  \\\n",
       "0      0.663                0    0.1380    -7.770       0.0456  108.980   \n",
       "1      0.526                0    0.0939    -7.492       0.0603  177.913   \n",
       "2      0.510                0    0.2120    -6.485       0.3050  114.576   \n",
       "3      0.826                0    0.0978    -5.320       0.0775   80.848   \n",
       "4      0.687                0    0.0805    -7.832       0.0376  109.986   \n",
       "...      ...              ...       ...       ...          ...      ...   \n",
       "2003   0.653         4.29e-05    0.0958    -7.291       0.0476  124.999   \n",
       "2004   0.257                0    0.1100   -11.063       0.0331  153.617   \n",
       "2005   0.806         1.56e-06    0.0928    -5.098       0.0344  122.971   \n",
       "2006   0.566                0    0.2440    -7.417       0.0233  107.033   \n",
       "2007   0.521                0    0.1120    -7.916       0.0308   76.541   \n",
       "\n",
       "      valence  \n",
       "0       0.330  \n",
       "1       0.366  \n",
       "2       0.448  \n",
       "3       0.601  \n",
       "4       0.248  \n",
       "...       ...  \n",
       "2003    0.388  \n",
       "2004    0.444  \n",
       "2005    0.404  \n",
       "2006    0.294  \n",
       "2007    0.278  \n",
       "\n",
       "[2008 rows x 12 columns]"
      ]
     },
     "metadata": {},
     "execution_count": 10
    }
   ],
   "metadata": {}
  },
  {
   "cell_type": "code",
   "execution_count": null,
   "source": [],
   "outputs": [],
   "metadata": {}
  },
  {
   "cell_type": "markdown",
   "source": [
    "## Principal Component Analysis (PCA)"
   ],
   "metadata": {}
  },
  {
   "cell_type": "code",
   "execution_count": 11,
   "source": [
    "non_features = ['track_name', 'artist', 'track_URI']\n",
    "track_info = df[non_features]\n",
    "df_X = df.drop(columns=non_features)\n",
    "df_X.head()"
   ],
   "outputs": [
    {
     "output_type": "execute_result",
     "data": {
      "text/html": [
       "<div>\n",
       "<style scoped>\n",
       "    .dataframe tbody tr th:only-of-type {\n",
       "        vertical-align: middle;\n",
       "    }\n",
       "\n",
       "    .dataframe tbody tr th {\n",
       "        vertical-align: top;\n",
       "    }\n",
       "\n",
       "    .dataframe thead th {\n",
       "        text-align: right;\n",
       "    }\n",
       "</style>\n",
       "<table border=\"1\" class=\"dataframe\">\n",
       "  <thead>\n",
       "    <tr style=\"text-align: right;\">\n",
       "      <th></th>\n",
       "      <th>acousticness</th>\n",
       "      <th>danceability</th>\n",
       "      <th>energy</th>\n",
       "      <th>instrumentalness</th>\n",
       "      <th>liveness</th>\n",
       "      <th>loudness</th>\n",
       "      <th>speechiness</th>\n",
       "      <th>tempo</th>\n",
       "      <th>valence</th>\n",
       "    </tr>\n",
       "  </thead>\n",
       "  <tbody>\n",
       "    <tr>\n",
       "      <th>0</th>\n",
       "      <td>0.1630</td>\n",
       "      <td>0.414</td>\n",
       "      <td>0.663</td>\n",
       "      <td>0</td>\n",
       "      <td>0.1380</td>\n",
       "      <td>-7.770</td>\n",
       "      <td>0.0456</td>\n",
       "      <td>108.980</td>\n",
       "      <td>0.330</td>\n",
       "    </tr>\n",
       "    <tr>\n",
       "      <th>1</th>\n",
       "      <td>0.4680</td>\n",
       "      <td>0.614</td>\n",
       "      <td>0.526</td>\n",
       "      <td>0</td>\n",
       "      <td>0.0939</td>\n",
       "      <td>-7.492</td>\n",
       "      <td>0.0603</td>\n",
       "      <td>177.913</td>\n",
       "      <td>0.366</td>\n",
       "    </tr>\n",
       "    <tr>\n",
       "      <th>2</th>\n",
       "      <td>0.3440</td>\n",
       "      <td>0.638</td>\n",
       "      <td>0.510</td>\n",
       "      <td>0</td>\n",
       "      <td>0.2120</td>\n",
       "      <td>-6.485</td>\n",
       "      <td>0.3050</td>\n",
       "      <td>114.576</td>\n",
       "      <td>0.448</td>\n",
       "    </tr>\n",
       "    <tr>\n",
       "      <th>3</th>\n",
       "      <td>0.1760</td>\n",
       "      <td>0.442</td>\n",
       "      <td>0.826</td>\n",
       "      <td>0</td>\n",
       "      <td>0.0978</td>\n",
       "      <td>-5.320</td>\n",
       "      <td>0.0775</td>\n",
       "      <td>80.848</td>\n",
       "      <td>0.601</td>\n",
       "    </tr>\n",
       "    <tr>\n",
       "      <th>4</th>\n",
       "      <td>0.0677</td>\n",
       "      <td>0.689</td>\n",
       "      <td>0.687</td>\n",
       "      <td>0</td>\n",
       "      <td>0.0805</td>\n",
       "      <td>-7.832</td>\n",
       "      <td>0.0376</td>\n",
       "      <td>109.986</td>\n",
       "      <td>0.248</td>\n",
       "    </tr>\n",
       "  </tbody>\n",
       "</table>\n",
       "</div>"
      ],
      "text/plain": [
       "   acousticness  danceability  energy instrumentalness  liveness  loudness  \\\n",
       "0        0.1630         0.414   0.663                0    0.1380    -7.770   \n",
       "1        0.4680         0.614   0.526                0    0.0939    -7.492   \n",
       "2        0.3440         0.638   0.510                0    0.2120    -6.485   \n",
       "3        0.1760         0.442   0.826                0    0.0978    -5.320   \n",
       "4        0.0677         0.689   0.687                0    0.0805    -7.832   \n",
       "\n",
       "   speechiness    tempo  valence  \n",
       "0       0.0456  108.980    0.330  \n",
       "1       0.0603  177.913    0.366  \n",
       "2       0.3050  114.576    0.448  \n",
       "3       0.0775   80.848    0.601  \n",
       "4       0.0376  109.986    0.248  "
      ]
     },
     "metadata": {},
     "execution_count": 11
    }
   ],
   "metadata": {
    "ExecuteTime": {
     "end_time": "2020-12-30T18:43:43.549226Z",
     "start_time": "2020-12-30T18:43:43.525843Z"
    }
   }
  },
  {
   "cell_type": "code",
   "execution_count": 12,
   "source": [
    "scaler = StandardScaler()\n",
    "X_std = scaler.fit_transform(df_X)"
   ],
   "outputs": [],
   "metadata": {
    "ExecuteTime": {
     "end_time": "2020-12-30T18:43:44.633367Z",
     "start_time": "2020-12-30T18:43:44.615218Z"
    }
   }
  },
  {
   "cell_type": "code",
   "execution_count": 13,
   "source": [
    "pca = PCA()\n",
    "pca.fit(X_std);"
   ],
   "outputs": [],
   "metadata": {
    "ExecuteTime": {
     "end_time": "2020-12-30T18:43:45.777676Z",
     "start_time": "2020-12-30T18:43:45.765283Z"
    }
   }
  },
  {
   "cell_type": "code",
   "execution_count": 14,
   "source": [
    "# The attribute shows how much variance is explained by each of the nine features\n",
    "evr = pca.explained_variance_ratio_\n",
    "evr"
   ],
   "outputs": [
    {
     "output_type": "execute_result",
     "data": {
      "text/plain": [
       "array([0.28232599, 0.13989467, 0.11969374, 0.11484411, 0.10773816,\n",
       "       0.08624937, 0.07580761, 0.04919182, 0.02425454])"
      ]
     },
     "metadata": {},
     "execution_count": 14
    }
   ],
   "metadata": {
    "ExecuteTime": {
     "end_time": "2020-12-30T18:43:46.835352Z",
     "start_time": "2020-12-30T18:43:46.830992Z"
    }
   }
  },
  {
   "cell_type": "code",
   "execution_count": 15,
   "source": [
    "fig = plt.figure(figsize=(10,8))\n",
    "plt.plot(range(1, len(df_X.columns)+1), evr.cumsum(), marker='o', linestyle='--')\n",
    "plt.xlabel('Number of Components', fontsize=18)\n",
    "plt.ylabel('Cumulative Explained Variance',fontsize=18)\n",
    "plt.xticks(fontsize=16)\n",
    "plt.yticks(fontsize=16)\n",
    "fig = plt.savefig(\"./visualizations/cumulative_variance_plot.png\")\n",
    "plt.show()"
   ],
   "outputs": [
    {
     "output_type": "display_data",
     "data": {
      "image/png": "[encoded data removed]",
      "text/plain": [
       "<Figure size 720x576 with 1 Axes>"
      ]
     },
     "metadata": {}
    }
   ],
   "metadata": {
    "ExecuteTime": {
     "end_time": "2020-12-30T18:43:48.324192Z",
     "start_time": "2020-12-30T18:43:47.832187Z"
    }
   }
  },
  {
   "cell_type": "code",
   "execution_count": 16,
   "source": [
    "for i, exp_var in enumerate(evr.cumsum()):\n",
    "    if exp_var >= 0.8:\n",
    "        n_comps = i + 1\n",
    "        break\n",
    "print(\"Number of components:\", n_comps)\n",
    "pca = PCA(n_components=n_comps)\n",
    "pca.fit(X_std)\n",
    "scores_pca = pca.transform(X_std)"
   ],
   "outputs": [
    {
     "output_type": "stream",
     "name": "stdout",
     "text": [
      "Number of components: 6\n"
     ]
    }
   ],
   "metadata": {
    "ExecuteTime": {
     "end_time": "2020-12-30T18:43:49.436769Z",
     "start_time": "2020-12-30T18:43:49.429610Z"
    }
   }
  },
  {
   "cell_type": "markdown",
   "source": [
    "## K-Means Clustering"
   ],
   "metadata": {}
  },
  {
   "cell_type": "markdown",
   "source": [
    "Finding the elbow point of the WCSS (within cluster sum of squares) curve using the YellowBrick `KElbowVisualizer`"
   ],
   "metadata": {}
  },
  {
   "cell_type": "code",
   "execution_count": 17,
   "source": [
    "visualizer = KElbowVisualizer(KMeans(init='k-means++', random_state=42), k=(1,21), timings=False)\n",
    "visualizer.fit(scores_pca)\n",
    "visualizer.show()\n",
    "n_clusters = visualizer.elbow_value_\n",
    "print(\"Optimal number of clusters:\", n_clusters)"
   ],
   "outputs": [
    {
     "output_type": "display_data",
     "data": {
      "image/png": "[encoded data removed]",
      "text/plain": [
       "<Figure size 576x396 with 1 Axes>"
      ]
     },
     "metadata": {}
    },
    {
     "output_type": "stream",
     "name": "stdout",
     "text": [
      "Optimal number of clusters: 6\n"
     ]
    }
   ],
   "metadata": {
    "ExecuteTime": {
     "end_time": "2020-12-30T18:44:03.391533Z",
     "start_time": "2020-12-30T18:44:01.532796Z"
    }
   }
  },
  {
   "cell_type": "markdown",
   "source": [
    "Finding the elbow point of the WCSS (within cluster sum of squares) curve using the kneed `KneeLocator`"
   ],
   "metadata": {}
  },
  {
   "cell_type": "code",
   "execution_count": 22,
   "source": [
    "wcss = []\n",
    "max_clusters = 21\n",
    "for i in range(1, max_clusters):\n",
    "    kmeans_pca = KMeans(i, init='k-means++', random_state=42)\n",
    "    kmeans_pca.fit(scores_pca)\n",
    "    wcss.append(kmeans_pca.inertia_)\n",
    "n_clusters = KneeLocator([i for i in range(1, max_clusters)], wcss, curve='convex', direction='decreasing').knee\n",
    "print(\"Optimal number of clusters\", n_clusters)"
   ],
   "outputs": [
    {
     "output_type": "stream",
     "name": "stdout",
     "text": [
      "Optimal number of clusters 6\n"
     ]
    }
   ],
   "metadata": {
    "ExecuteTime": {
     "end_time": "2020-12-30T18:47:40.120025Z",
     "start_time": "2020-12-30T18:47:38.694854Z"
    }
   }
  },
  {
   "cell_type": "code",
   "execution_count": 23,
   "source": [
    "fig = plt.figure(figsize=(10,8))\n",
    "plt.plot(range(1, 21), wcss, marker='o', linestyle='--')\n",
    "plt.vlines(KneeLocator([i for i in range(1, max_clusters)], wcss, curve='convex', direction='decreasing').knee, ymin=min(wcss), ymax=max(wcss), linestyles='dashed')\n",
    "plt.xlabel('Number of Clusters', fontsize=18)\n",
    "plt.ylabel('Within Cluster Sum of Squares (WCSS)', fontsize=18)\n",
    "plt.xticks(fontsize=16)\n",
    "plt.yticks(fontsize=16)\n",
    "fig.savefig(\"./visualizations/num_clusters.png\")\n",
    "plt.show()"
   ],
   "outputs": [
    {
     "output_type": "display_data",
     "data": {
      "image/png": "[encoded data removed]",
      "text/plain": [
       "<Figure size 720x576 with 1 Axes>"
      ]
     },
     "metadata": {}
    }
   ],
   "metadata": {
    "ExecuteTime": {
     "end_time": "2020-12-30T18:48:57.049834Z",
     "start_time": "2020-12-30T18:48:56.497330Z"
    }
   }
  },
  {
   "cell_type": "code",
   "execution_count": 24,
   "source": [
    "kmeans_pca = KMeans(n_clusters=n_clusters, init='k-means++', random_state=42)\n",
    "kmeans_pca.fit(scores_pca);"
   ],
   "outputs": [],
   "metadata": {
    "ExecuteTime": {
     "end_time": "2020-12-30T18:59:53.909451Z",
     "start_time": "2020-12-30T18:59:53.738239Z"
    }
   }
  },
  {
   "cell_type": "markdown",
   "source": [
    "## Analysis and Visualization"
   ],
   "metadata": {}
  },
  {
   "cell_type": "code",
   "execution_count": 25,
   "source": [
    "df_seg_pca_kmeans = pd.concat([df_X.reset_index(drop=True), pd.DataFrame(scores_pca)], axis=1)\n",
    "df_seg_pca_kmeans.columns.values[(-1*n_comps):] = [\"Component \" + str(i+1) for i in range(n_comps)]\n",
    "df_seg_pca_kmeans['Cluster'] = kmeans_pca.labels_\n",
    "df_seg_pca_kmeans.head()"
   ],
   "outputs": [
    {
     "output_type": "execute_result",
     "data": {
      "text/html": [
       "<div>\n",
       "<style scoped>\n",
       "    .dataframe tbody tr th:only-of-type {\n",
       "        vertical-align: middle;\n",
       "    }\n",
       "\n",
       "    .dataframe tbody tr th {\n",
       "        vertical-align: top;\n",
       "    }\n",
       "\n",
       "    .dataframe thead th {\n",
       "        text-align: right;\n",
       "    }\n",
       "</style>\n",
       "<table border=\"1\" class=\"dataframe\">\n",
       "  <thead>\n",
       "    <tr style=\"text-align: right;\">\n",
       "      <th></th>\n",
       "      <th>acousticness</th>\n",
       "      <th>danceability</th>\n",
       "      <th>energy</th>\n",
       "      <th>instrumentalness</th>\n",
       "      <th>liveness</th>\n",
       "      <th>loudness</th>\n",
       "      <th>speechiness</th>\n",
       "      <th>tempo</th>\n",
       "      <th>valence</th>\n",
       "      <th>Component 1</th>\n",
       "      <th>Component 2</th>\n",
       "      <th>Component 3</th>\n",
       "      <th>Component 4</th>\n",
       "      <th>Component 5</th>\n",
       "      <th>Component 6</th>\n",
       "      <th>Cluster</th>\n",
       "    </tr>\n",
       "  </thead>\n",
       "  <tbody>\n",
       "    <tr>\n",
       "      <th>0</th>\n",
       "      <td>0.1630</td>\n",
       "      <td>0.414</td>\n",
       "      <td>0.663</td>\n",
       "      <td>0</td>\n",
       "      <td>0.1380</td>\n",
       "      <td>-7.770</td>\n",
       "      <td>0.0456</td>\n",
       "      <td>108.980</td>\n",
       "      <td>0.330</td>\n",
       "      <td>0.213038</td>\n",
       "      <td>1.549511</td>\n",
       "      <td>-0.770213</td>\n",
       "      <td>-0.196857</td>\n",
       "      <td>-0.555124</td>\n",
       "      <td>0.644965</td>\n",
       "      <td>5</td>\n",
       "    </tr>\n",
       "    <tr>\n",
       "      <th>1</th>\n",
       "      <td>0.4680</td>\n",
       "      <td>0.614</td>\n",
       "      <td>0.526</td>\n",
       "      <td>0</td>\n",
       "      <td>0.0939</td>\n",
       "      <td>-7.492</td>\n",
       "      <td>0.0603</td>\n",
       "      <td>177.913</td>\n",
       "      <td>0.366</td>\n",
       "      <td>0.559450</td>\n",
       "      <td>1.068489</td>\n",
       "      <td>0.803634</td>\n",
       "      <td>0.749789</td>\n",
       "      <td>-1.199633</td>\n",
       "      <td>-1.257287</td>\n",
       "      <td>5</td>\n",
       "    </tr>\n",
       "    <tr>\n",
       "      <th>2</th>\n",
       "      <td>0.3440</td>\n",
       "      <td>0.638</td>\n",
       "      <td>0.510</td>\n",
       "      <td>0</td>\n",
       "      <td>0.2120</td>\n",
       "      <td>-6.485</td>\n",
       "      <td>0.3050</td>\n",
       "      <td>114.576</td>\n",
       "      <td>0.448</td>\n",
       "      <td>-0.087762</td>\n",
       "      <td>-0.193045</td>\n",
       "      <td>1.432282</td>\n",
       "      <td>-0.659813</td>\n",
       "      <td>0.328193</td>\n",
       "      <td>0.818252</td>\n",
       "      <td>2</td>\n",
       "    </tr>\n",
       "    <tr>\n",
       "      <th>3</th>\n",
       "      <td>0.1760</td>\n",
       "      <td>0.442</td>\n",
       "      <td>0.826</td>\n",
       "      <td>0</td>\n",
       "      <td>0.0978</td>\n",
       "      <td>-5.320</td>\n",
       "      <td>0.0775</td>\n",
       "      <td>80.848</td>\n",
       "      <td>0.601</td>\n",
       "      <td>-1.156064</td>\n",
       "      <td>0.614867</td>\n",
       "      <td>-1.238588</td>\n",
       "      <td>-0.327501</td>\n",
       "      <td>-0.602447</td>\n",
       "      <td>1.087820</td>\n",
       "      <td>5</td>\n",
       "    </tr>\n",
       "    <tr>\n",
       "      <th>4</th>\n",
       "      <td>0.0677</td>\n",
       "      <td>0.689</td>\n",
       "      <td>0.687</td>\n",
       "      <td>0</td>\n",
       "      <td>0.0805</td>\n",
       "      <td>-7.832</td>\n",
       "      <td>0.0376</td>\n",
       "      <td>109.986</td>\n",
       "      <td>0.248</td>\n",
       "      <td>-0.247150</td>\n",
       "      <td>0.357301</td>\n",
       "      <td>-0.794391</td>\n",
       "      <td>0.202016</td>\n",
       "      <td>-0.749399</td>\n",
       "      <td>0.558221</td>\n",
       "      <td>5</td>\n",
       "    </tr>\n",
       "  </tbody>\n",
       "</table>\n",
       "</div>"
      ],
      "text/plain": [
       "   acousticness  danceability  energy instrumentalness  liveness  loudness  \\\n",
       "0        0.1630         0.414   0.663                0    0.1380    -7.770   \n",
       "1        0.4680         0.614   0.526                0    0.0939    -7.492   \n",
       "2        0.3440         0.638   0.510                0    0.2120    -6.485   \n",
       "3        0.1760         0.442   0.826                0    0.0978    -5.320   \n",
       "4        0.0677         0.689   0.687                0    0.0805    -7.832   \n",
       "\n",
       "   speechiness    tempo  valence  Component 1  Component 2  Component 3  \\\n",
       "0       0.0456  108.980    0.330     0.213038     1.549511    -0.770213   \n",
       "1       0.0603  177.913    0.366     0.559450     1.068489     0.803634   \n",
       "2       0.3050  114.576    0.448    -0.087762    -0.193045     1.432282   \n",
       "3       0.0775   80.848    0.601    -1.156064     0.614867    -1.238588   \n",
       "4       0.0376  109.986    0.248    -0.247150     0.357301    -0.794391   \n",
       "\n",
       "   Component 4  Component 5  Component 6  Cluster  \n",
       "0    -0.196857    -0.555124     0.644965        5  \n",
       "1     0.749789    -1.199633    -1.257287        5  \n",
       "2    -0.659813     0.328193     0.818252        2  \n",
       "3    -0.327501    -0.602447     1.087820        5  \n",
       "4     0.202016    -0.749399     0.558221        5  "
      ]
     },
     "metadata": {},
     "execution_count": 25
    }
   ],
   "metadata": {
    "ExecuteTime": {
     "end_time": "2020-12-30T19:00:03.451523Z",
     "start_time": "2020-12-30T19:00:03.389167Z"
    }
   }
  },
  {
   "cell_type": "code",
   "execution_count": 27,
   "source": [
    "x = df_seg_pca_kmeans['Component 2']\n",
    "y = df_seg_pca_kmeans['Component 1']\n",
    "fig = plt.figure(figsize=(10, 8))\n",
    "sns.scatterplot(x, y, hue=df_seg_pca_kmeans['Cluster'], palette = ['tab:blue', 'tab:orange', 'tab:green', 'tab:red', 'tab:purple', 'goldenrod'])\n",
    "plt.title('Clusters by PCA Components', fontsize=20)\n",
    "plt.xlabel(\"Component 2\", fontsize=18)\n",
    "plt.ylabel(\"Component 1\", fontsize=18)\n",
    "plt.xticks(fontsize=16)\n",
    "plt.yticks(fontsize=16)\n",
    "plt.show()\n",
    "fig.savefig(\"./visualizations/clusters-2d.png\")"
   ],
   "outputs": [
    {
     "output_type": "stream",
     "name": "stderr",
     "text": [
      "/Library/Frameworks/Python.framework/Versions/3.7/lib/python3.7/site-packages/seaborn/_decorators.py:43: FutureWarning: Pass the following variables as keyword args: x, y. From version 0.12, the only valid positional argument will be `data`, and passing other arguments without an explicit keyword will result in an error or misinterpretation.\n",
      "  FutureWarning\n"
     ]
    },
    {
     "output_type": "display_data",
     "data": {
      "image/png": "[encoded data removed]",
      "text/plain": [
       "<Figure size 720x576 with 1 Axes>"
      ]
     },
     "metadata": {}
    }
   ],
   "metadata": {
    "ExecuteTime": {
     "end_time": "2020-12-30T19:01:03.255191Z",
     "start_time": "2020-12-30T19:01:02.538360Z"
    }
   }
  },
  {
   "cell_type": "code",
   "execution_count": 28,
   "source": [
    "df['Cluster'] = df_seg_pca_kmeans['Cluster']\n",
    "df"
   ],
   "outputs": [
    {
     "output_type": "execute_result",
     "data": {
      "text/html": [
       "<div>\n",
       "<style scoped>\n",
       "    .dataframe tbody tr th:only-of-type {\n",
       "        vertical-align: middle;\n",
       "    }\n",
       "\n",
       "    .dataframe tbody tr th {\n",
       "        vertical-align: top;\n",
       "    }\n",
       "\n",
       "    .dataframe thead th {\n",
       "        text-align: right;\n",
       "    }\n",
       "</style>\n",
       "<table border=\"1\" class=\"dataframe\">\n",
       "  <thead>\n",
       "    <tr style=\"text-align: right;\">\n",
       "      <th></th>\n",
       "      <th>track_name</th>\n",
       "      <th>artist</th>\n",
       "      <th>track_URI</th>\n",
       "      <th>acousticness</th>\n",
       "      <th>danceability</th>\n",
       "      <th>energy</th>\n",
       "      <th>instrumentalness</th>\n",
       "      <th>liveness</th>\n",
       "      <th>loudness</th>\n",
       "      <th>speechiness</th>\n",
       "      <th>tempo</th>\n",
       "      <th>valence</th>\n",
       "      <th>Cluster</th>\n",
       "    </tr>\n",
       "  </thead>\n",
       "  <tbody>\n",
       "    <tr>\n",
       "      <th>0</th>\n",
       "      <td>False Confidence</td>\n",
       "      <td>Noah Kahan</td>\n",
       "      <td>spotify:track:7nDFTHHwfe32a8qdp9XqPy</td>\n",
       "      <td>0.16300</td>\n",
       "      <td>0.414</td>\n",
       "      <td>0.663</td>\n",
       "      <td>0</td>\n",
       "      <td>0.1380</td>\n",
       "      <td>-7.770</td>\n",
       "      <td>0.0456</td>\n",
       "      <td>108.980</td>\n",
       "      <td>0.330</td>\n",
       "      <td>5</td>\n",
       "    </tr>\n",
       "    <tr>\n",
       "      <th>1</th>\n",
       "      <td>Someone Like You (feat. Joy Oladokun)</td>\n",
       "      <td>Noah Kahan</td>\n",
       "      <td>spotify:track:0hiHNxqKGf3GZgVTIOAiiK</td>\n",
       "      <td>0.46800</td>\n",
       "      <td>0.614</td>\n",
       "      <td>0.526</td>\n",
       "      <td>0</td>\n",
       "      <td>0.0939</td>\n",
       "      <td>-7.492</td>\n",
       "      <td>0.0603</td>\n",
       "      <td>177.913</td>\n",
       "      <td>0.366</td>\n",
       "      <td>5</td>\n",
       "    </tr>\n",
       "    <tr>\n",
       "      <th>2</th>\n",
       "      <td>Hurt Somebody</td>\n",
       "      <td>Noah Kahan</td>\n",
       "      <td>spotify:track:2Zg0aB5oVQlbQE1vzQmIIY</td>\n",
       "      <td>0.34400</td>\n",
       "      <td>0.638</td>\n",
       "      <td>0.510</td>\n",
       "      <td>0</td>\n",
       "      <td>0.2120</td>\n",
       "      <td>-6.485</td>\n",
       "      <td>0.3050</td>\n",
       "      <td>114.576</td>\n",
       "      <td>0.448</td>\n",
       "      <td>2</td>\n",
       "    </tr>\n",
       "    <tr>\n",
       "      <th>3</th>\n",
       "      <td>Mess</td>\n",
       "      <td>Noah Kahan</td>\n",
       "      <td>spotify:track:1BlQWQgGP84r4GYUVty4Ar</td>\n",
       "      <td>0.17600</td>\n",
       "      <td>0.442</td>\n",
       "      <td>0.826</td>\n",
       "      <td>0</td>\n",
       "      <td>0.0978</td>\n",
       "      <td>-5.320</td>\n",
       "      <td>0.0775</td>\n",
       "      <td>80.848</td>\n",
       "      <td>0.601</td>\n",
       "      <td>5</td>\n",
       "    </tr>\n",
       "    <tr>\n",
       "      <th>4</th>\n",
       "      <td>Part of Me</td>\n",
       "      <td>Noah Kahan</td>\n",
       "      <td>spotify:track:1o5WgxPWvoVgo20DQItKOE</td>\n",
       "      <td>0.06770</td>\n",
       "      <td>0.689</td>\n",
       "      <td>0.687</td>\n",
       "      <td>0</td>\n",
       "      <td>0.0805</td>\n",
       "      <td>-7.832</td>\n",
       "      <td>0.0376</td>\n",
       "      <td>109.986</td>\n",
       "      <td>0.248</td>\n",
       "      <td>5</td>\n",
       "    </tr>\n",
       "    <tr>\n",
       "      <th>...</th>\n",
       "      <td>...</td>\n",
       "      <td>...</td>\n",
       "      <td>...</td>\n",
       "      <td>...</td>\n",
       "      <td>...</td>\n",
       "      <td>...</td>\n",
       "      <td>...</td>\n",
       "      <td>...</td>\n",
       "      <td>...</td>\n",
       "      <td>...</td>\n",
       "      <td>...</td>\n",
       "      <td>...</td>\n",
       "      <td>...</td>\n",
       "    </tr>\n",
       "    <tr>\n",
       "      <th>2003</th>\n",
       "      <td>Put Your Hands Up</td>\n",
       "      <td>Forest Blakk</td>\n",
       "      <td>spotify:track:57X2jAov78d6K39SOWJqaJ</td>\n",
       "      <td>0.18400</td>\n",
       "      <td>0.627</td>\n",
       "      <td>0.653</td>\n",
       "      <td>4.29e-05</td>\n",
       "      <td>0.0958</td>\n",
       "      <td>-7.291</td>\n",
       "      <td>0.0476</td>\n",
       "      <td>124.999</td>\n",
       "      <td>0.388</td>\n",
       "      <td>5</td>\n",
       "    </tr>\n",
       "    <tr>\n",
       "      <th>2004</th>\n",
       "      <td>If You Love Her - Acoustic</td>\n",
       "      <td>Forest Blakk</td>\n",
       "      <td>spotify:track:615LwsUs7WA2KvSRRmXAUK</td>\n",
       "      <td>0.85200</td>\n",
       "      <td>0.516</td>\n",
       "      <td>0.257</td>\n",
       "      <td>0</td>\n",
       "      <td>0.1100</td>\n",
       "      <td>-11.063</td>\n",
       "      <td>0.0331</td>\n",
       "      <td>153.617</td>\n",
       "      <td>0.444</td>\n",
       "      <td>3</td>\n",
       "    </tr>\n",
       "    <tr>\n",
       "      <th>2005</th>\n",
       "      <td>If You Love Her - Mark McCabe Remix</td>\n",
       "      <td>Forest Blakk</td>\n",
       "      <td>spotify:track:2MaGdDg1cbXTywMf93cEZt</td>\n",
       "      <td>0.00179</td>\n",
       "      <td>0.587</td>\n",
       "      <td>0.806</td>\n",
       "      <td>1.56e-06</td>\n",
       "      <td>0.0928</td>\n",
       "      <td>-5.098</td>\n",
       "      <td>0.0344</td>\n",
       "      <td>122.971</td>\n",
       "      <td>0.404</td>\n",
       "      <td>5</td>\n",
       "    </tr>\n",
       "    <tr>\n",
       "      <th>2006</th>\n",
       "      <td>I Wish I Knew</td>\n",
       "      <td>Forest Blakk</td>\n",
       "      <td>spotify:track:59fi2USYlHpzOOfjlPenJI</td>\n",
       "      <td>0.64600</td>\n",
       "      <td>0.575</td>\n",
       "      <td>0.566</td>\n",
       "      <td>0</td>\n",
       "      <td>0.2440</td>\n",
       "      <td>-7.417</td>\n",
       "      <td>0.0233</td>\n",
       "      <td>107.033</td>\n",
       "      <td>0.294</td>\n",
       "      <td>3</td>\n",
       "    </tr>\n",
       "    <tr>\n",
       "      <th>2007</th>\n",
       "      <td>Foolish</td>\n",
       "      <td>Forest Blakk</td>\n",
       "      <td>spotify:track:1vf2fGxOHfMF1N4DdYLezO</td>\n",
       "      <td>0.55600</td>\n",
       "      <td>0.559</td>\n",
       "      <td>0.521</td>\n",
       "      <td>0</td>\n",
       "      <td>0.1120</td>\n",
       "      <td>-7.916</td>\n",
       "      <td>0.0308</td>\n",
       "      <td>76.541</td>\n",
       "      <td>0.278</td>\n",
       "      <td>3</td>\n",
       "    </tr>\n",
       "  </tbody>\n",
       "</table>\n",
       "<p>2008 rows × 13 columns</p>\n",
       "</div>"
      ],
      "text/plain": [
       "                                 track_name        artist  \\\n",
       "0                          False Confidence    Noah Kahan   \n",
       "1     Someone Like You (feat. Joy Oladokun)    Noah Kahan   \n",
       "2                             Hurt Somebody    Noah Kahan   \n",
       "3                                      Mess    Noah Kahan   \n",
       "4                                Part of Me    Noah Kahan   \n",
       "...                                     ...           ...   \n",
       "2003                      Put Your Hands Up  Forest Blakk   \n",
       "2004             If You Love Her - Acoustic  Forest Blakk   \n",
       "2005    If You Love Her - Mark McCabe Remix  Forest Blakk   \n",
       "2006                          I Wish I Knew  Forest Blakk   \n",
       "2007                                Foolish  Forest Blakk   \n",
       "\n",
       "                                 track_URI  acousticness  danceability  \\\n",
       "0     spotify:track:7nDFTHHwfe32a8qdp9XqPy       0.16300         0.414   \n",
       "1     spotify:track:0hiHNxqKGf3GZgVTIOAiiK       0.46800         0.614   \n",
       "2     spotify:track:2Zg0aB5oVQlbQE1vzQmIIY       0.34400         0.638   \n",
       "3     spotify:track:1BlQWQgGP84r4GYUVty4Ar       0.17600         0.442   \n",
       "4     spotify:track:1o5WgxPWvoVgo20DQItKOE       0.06770         0.689   \n",
       "...                                    ...           ...           ...   \n",
       "2003  spotify:track:57X2jAov78d6K39SOWJqaJ       0.18400         0.627   \n",
       "2004  spotify:track:615LwsUs7WA2KvSRRmXAUK       0.85200         0.516   \n",
       "2005  spotify:track:2MaGdDg1cbXTywMf93cEZt       0.00179         0.587   \n",
       "2006  spotify:track:59fi2USYlHpzOOfjlPenJI       0.64600         0.575   \n",
       "2007  spotify:track:1vf2fGxOHfMF1N4DdYLezO       0.55600         0.559   \n",
       "\n",
       "      energy instrumentalness  liveness  loudness  speechiness    tempo  \\\n",
       "0      0.663                0    0.1380    -7.770       0.0456  108.980   \n",
       "1      0.526                0    0.0939    -7.492       0.0603  177.913   \n",
       "2      0.510                0    0.2120    -6.485       0.3050  114.576   \n",
       "3      0.826                0    0.0978    -5.320       0.0775   80.848   \n",
       "4      0.687                0    0.0805    -7.832       0.0376  109.986   \n",
       "...      ...              ...       ...       ...          ...      ...   \n",
       "2003   0.653         4.29e-05    0.0958    -7.291       0.0476  124.999   \n",
       "2004   0.257                0    0.1100   -11.063       0.0331  153.617   \n",
       "2005   0.806         1.56e-06    0.0928    -5.098       0.0344  122.971   \n",
       "2006   0.566                0    0.2440    -7.417       0.0233  107.033   \n",
       "2007   0.521                0    0.1120    -7.916       0.0308   76.541   \n",
       "\n",
       "      valence  Cluster  \n",
       "0       0.330        5  \n",
       "1       0.366        5  \n",
       "2       0.448        2  \n",
       "3       0.601        5  \n",
       "4       0.248        5  \n",
       "...       ...      ...  \n",
       "2003    0.388        5  \n",
       "2004    0.444        3  \n",
       "2005    0.404        5  \n",
       "2006    0.294        3  \n",
       "2007    0.278        3  \n",
       "\n",
       "[2008 rows x 13 columns]"
      ]
     },
     "metadata": {},
     "execution_count": 28
    }
   ],
   "metadata": {
    "ExecuteTime": {
     "end_time": "2020-12-30T19:01:05.002189Z",
     "start_time": "2020-12-30T19:01:04.972783Z"
    }
   }
  },
  {
   "cell_type": "code",
   "execution_count": 29,
   "source": [
    "def make_normalized_df(df, col_sep):\n",
    "    non_features = df[df.columns[:col_sep]]\n",
    "    features = df[df.columns[col_sep:]]\n",
    "    norm = MinMaxScaler().fit_transform(features)\n",
    "    scaled = pd.DataFrame(norm, index=df.index, columns = df.columns[col_sep:])\n",
    "    return pd.concat([non_features, scaled], axis=1)\n",
    "\n",
    "cluster_labels = df['Cluster']\n",
    "orig = df.drop(columns=['Cluster'])\n",
    "values_df = make_normalized_df(orig, 3)\n",
    "values_df.insert(3, 'cluster', cluster_labels)\n",
    "values_df.head()"
   ],
   "outputs": [
    {
     "output_type": "execute_result",
     "data": {
      "text/html": [
       "<div>\n",
       "<style scoped>\n",
       "    .dataframe tbody tr th:only-of-type {\n",
       "        vertical-align: middle;\n",
       "    }\n",
       "\n",
       "    .dataframe tbody tr th {\n",
       "        vertical-align: top;\n",
       "    }\n",
       "\n",
       "    .dataframe thead th {\n",
       "        text-align: right;\n",
       "    }\n",
       "</style>\n",
       "<table border=\"1\" class=\"dataframe\">\n",
       "  <thead>\n",
       "    <tr style=\"text-align: right;\">\n",
       "      <th></th>\n",
       "      <th>track_name</th>\n",
       "      <th>artist</th>\n",
       "      <th>track_URI</th>\n",
       "      <th>cluster</th>\n",
       "      <th>acousticness</th>\n",
       "      <th>danceability</th>\n",
       "      <th>energy</th>\n",
       "      <th>instrumentalness</th>\n",
       "      <th>liveness</th>\n",
       "      <th>loudness</th>\n",
       "      <th>speechiness</th>\n",
       "      <th>tempo</th>\n",
       "      <th>valence</th>\n",
       "    </tr>\n",
       "  </thead>\n",
       "  <tbody>\n",
       "    <tr>\n",
       "      <th>0</th>\n",
       "      <td>False Confidence</td>\n",
       "      <td>Noah Kahan</td>\n",
       "      <td>spotify:track:7nDFTHHwfe32a8qdp9XqPy</td>\n",
       "      <td>5</td>\n",
       "      <td>0.166493</td>\n",
       "      <td>0.264865</td>\n",
       "      <td>0.659292</td>\n",
       "      <td>0.0</td>\n",
       "      <td>0.117771</td>\n",
       "      <td>0.710385</td>\n",
       "      <td>0.028096</td>\n",
       "      <td>0.372869</td>\n",
       "      <td>0.311724</td>\n",
       "    </tr>\n",
       "    <tr>\n",
       "      <th>1</th>\n",
       "      <td>Someone Like You (feat. Joy Oladokun)</td>\n",
       "      <td>Noah Kahan</td>\n",
       "      <td>spotify:track:0hiHNxqKGf3GZgVTIOAiiK</td>\n",
       "      <td>5</td>\n",
       "      <td>0.478037</td>\n",
       "      <td>0.535135</td>\n",
       "      <td>0.516983</td>\n",
       "      <td>0.0</td>\n",
       "      <td>0.071399</td>\n",
       "      <td>0.721833</td>\n",
       "      <td>0.046617</td>\n",
       "      <td>0.814858</td>\n",
       "      <td>0.349611</td>\n",
       "    </tr>\n",
       "    <tr>\n",
       "      <th>2</th>\n",
       "      <td>Hurt Somebody</td>\n",
       "      <td>Noah Kahan</td>\n",
       "      <td>spotify:track:2Zg0aB5oVQlbQE1vzQmIIY</td>\n",
       "      <td>2</td>\n",
       "      <td>0.351376</td>\n",
       "      <td>0.567568</td>\n",
       "      <td>0.500364</td>\n",
       "      <td>0.0</td>\n",
       "      <td>0.195584</td>\n",
       "      <td>0.763301</td>\n",
       "      <td>0.354920</td>\n",
       "      <td>0.408750</td>\n",
       "      <td>0.435908</td>\n",
       "    </tr>\n",
       "    <tr>\n",
       "      <th>3</th>\n",
       "      <td>Mess</td>\n",
       "      <td>Noah Kahan</td>\n",
       "      <td>spotify:track:1BlQWQgGP84r4GYUVty4Ar</td>\n",
       "      <td>5</td>\n",
       "      <td>0.179772</td>\n",
       "      <td>0.302703</td>\n",
       "      <td>0.828607</td>\n",
       "      <td>0.0</td>\n",
       "      <td>0.075499</td>\n",
       "      <td>0.811275</td>\n",
       "      <td>0.068288</td>\n",
       "      <td>0.192490</td>\n",
       "      <td>0.596927</td>\n",
       "    </tr>\n",
       "    <tr>\n",
       "      <th>4</th>\n",
       "      <td>Part of Me</td>\n",
       "      <td>Noah Kahan</td>\n",
       "      <td>spotify:track:1o5WgxPWvoVgo20DQItKOE</td>\n",
       "      <td>5</td>\n",
       "      <td>0.069149</td>\n",
       "      <td>0.636486</td>\n",
       "      <td>0.684221</td>\n",
       "      <td>0.0</td>\n",
       "      <td>0.057308</td>\n",
       "      <td>0.707832</td>\n",
       "      <td>0.018017</td>\n",
       "      <td>0.379319</td>\n",
       "      <td>0.225426</td>\n",
       "    </tr>\n",
       "  </tbody>\n",
       "</table>\n",
       "</div>"
      ],
      "text/plain": [
       "                              track_name      artist  \\\n",
       "0                       False Confidence  Noah Kahan   \n",
       "1  Someone Like You (feat. Joy Oladokun)  Noah Kahan   \n",
       "2                          Hurt Somebody  Noah Kahan   \n",
       "3                                   Mess  Noah Kahan   \n",
       "4                             Part of Me  Noah Kahan   \n",
       "\n",
       "                              track_URI  cluster  acousticness  danceability  \\\n",
       "0  spotify:track:7nDFTHHwfe32a8qdp9XqPy        5      0.166493      0.264865   \n",
       "1  spotify:track:0hiHNxqKGf3GZgVTIOAiiK        5      0.478037      0.535135   \n",
       "2  spotify:track:2Zg0aB5oVQlbQE1vzQmIIY        2      0.351376      0.567568   \n",
       "3  spotify:track:1BlQWQgGP84r4GYUVty4Ar        5      0.179772      0.302703   \n",
       "4  spotify:track:1o5WgxPWvoVgo20DQItKOE        5      0.069149      0.636486   \n",
       "\n",
       "     energy  instrumentalness  liveness  loudness  speechiness     tempo  \\\n",
       "0  0.659292               0.0  0.117771  0.710385     0.028096  0.372869   \n",
       "1  0.516983               0.0  0.071399  0.721833     0.046617  0.814858   \n",
       "2  0.500364               0.0  0.195584  0.763301     0.354920  0.408750   \n",
       "3  0.828607               0.0  0.075499  0.811275     0.068288  0.192490   \n",
       "4  0.684221               0.0  0.057308  0.707832     0.018017  0.379319   \n",
       "\n",
       "    valence  \n",
       "0  0.311724  \n",
       "1  0.349611  \n",
       "2  0.435908  \n",
       "3  0.596927  \n",
       "4  0.225426  "
      ]
     },
     "metadata": {},
     "execution_count": 29
    }
   ],
   "metadata": {
    "ExecuteTime": {
     "end_time": "2020-12-30T19:01:40.134708Z",
     "start_time": "2020-12-30T19:01:40.096163Z"
    }
   }
  },
  {
   "cell_type": "code",
   "execution_count": 34,
   "source": [
    "fig = go.Figure()\n",
    "\n",
    "angles = list(values_df.columns[4:])\n",
    "angles.append(angles[0])\n",
    "\n",
    "layoutdict = dict(\n",
    "            radialaxis=dict(\n",
    "            visible=True,\n",
    "            range=[0, 1]\n",
    "            ))\n",
    "\n",
    "for i in range(n_clusters):\n",
    "    subset = values_df[values_df['cluster'] == i]\n",
    "    data = [np.mean(subset[col]) for col in subset.columns[4:]]\n",
    "    data.append(data[0])\n",
    "    fig.add_trace(go.Scatterpolar(\n",
    "        r=data,\n",
    "        theta=angles,\n",
    "        fill='toself',\n",
    "        name=\"Cluster \" + str(i)))\n",
    "    \n",
    "fig.update_layout(\n",
    "        polar=layoutdict,\n",
    "        showlegend=True\n",
    "        )\n",
    "fig.show()\n",
    "#     fig.write_image('./visualizations/cluster' + str(i) + '.png')"
   ],
   "outputs": [
    {
     "output_type": "display_data",
     "data": {
      "application/vnd.plotly.v1+json": {
       "config": {
        "plotlyServerURL": "https://plot.ly"
       },
       "data": [
        {
         "fill": "toself",
         "name": "Cluster 0",
         "r": [
          0.19795175416285501,
          0.5969295826438684,
          0.6743357153809899,
          0.008541103012633625,
          0.5118636308361411,
          0.7836836101595965,
          0.12313636554533619,
          0.39785234115959656,
          0.49352803634608966,
          0.19795175416285501
         ],
         "theta": [
          "acousticness",
          "danceability",
          "energy",
          "instrumentalness",
          "liveness",
          "loudness",
          "speechiness",
          "tempo",
          "valence",
          "acousticness"
         ],
         "type": "scatterpolar"
        },
        {
         "fill": "toself",
         "name": "Cluster 1",
         "r": [
          0.2485164870633877,
          0.7253329884908831,
          0.6241531617366031,
          0.011323233876702777,
          0.11559711342211759,
          0.7661407396840735,
          0.07907205447042187,
          0.36199074509968027,
          0.6303892372864003,
          0.2485164870633877
         ],
         "theta": [
          "acousticness",
          "danceability",
          "energy",
          "instrumentalness",
          "liveness",
          "loudness",
          "speechiness",
          "tempo",
          "valence",
          "acousticness"
         ],
         "type": "scatterpolar"
        },
        {
         "fill": "toself",
         "name": "Cluster 2",
         "r": [
          0.24753471935662708,
          0.6126340626340627,
          0.5844524576216693,
          0.005279172335600908,
          0.13437526079481915,
          0.729586794361955,
          0.3869930064336012,
          0.4879157823643945,
          0.47441349022595086,
          0.24753471935662708
         ],
         "theta": [
          "acousticness",
          "danceability",
          "energy",
          "instrumentalness",
          "liveness",
          "loudness",
          "speechiness",
          "tempo",
          "valence",
          "acousticness"
         ],
         "type": "scatterpolar"
        },
        {
         "fill": "toself",
         "name": "Cluster 3",
         "r": [
          0.659987563014751,
          0.4961472759441157,
          0.3444521275635376,
          0.013921005638454848,
          0.12456817464330053,
          0.5985138055954129,
          0.06705201884706624,
          0.3632981956202716,
          0.28995012574280427,
          0.659987563014751
         ],
         "theta": [
          "acousticness",
          "danceability",
          "energy",
          "instrumentalness",
          "liveness",
          "loudness",
          "speechiness",
          "tempo",
          "valence",
          "acousticness"
         ],
         "type": "scatterpolar"
        },
        {
         "fill": "toself",
         "name": "Cluster 4",
         "r": [
          0.3626623704111544,
          0.5652652652652652,
          0.5183126930815722,
          0.5995670995670996,
          0.1344569069595358,
          0.6505502784946039,
          0.07143290449325473,
          0.4390264232724848,
          0.40155873617250176,
          0.3626623704111544
         ],
         "theta": [
          "acousticness",
          "danceability",
          "energy",
          "instrumentalness",
          "liveness",
          "loudness",
          "speechiness",
          "tempo",
          "valence",
          "acousticness"
         ],
         "type": "scatterpolar"
        },
        {
         "fill": "toself",
         "name": "Cluster 5",
         "r": [
          0.17019613408785816,
          0.48176372248537197,
          0.6617588633343293,
          0.009061097067880572,
          0.1331245460556983,
          0.7759925079004969,
          0.05608107142717976,
          0.502024871800821,
          0.3481587164503621,
          0.17019613408785816
         ],
         "theta": [
          "acousticness",
          "danceability",
          "energy",
          "instrumentalness",
          "liveness",
          "loudness",
          "speechiness",
          "tempo",
          "valence",
          "acousticness"
         ],
         "type": "scatterpolar"
        }
       ],
       "layout": {
        "polar": {
         "radialaxis": {
          "range": [
           0,
           1
          ],
          "visible": true
         }
        },
        "showlegend": true,
        "template": {
         "data": {
          "bar": [
           {
            "error_x": {
             "color": "#2a3f5f"
            },
            "error_y": {
             "color": "#2a3f5f"
            },
            "marker": {
             "line": {
              "color": "#E5ECF6",
              "width": 0.5
             }
            },
            "type": "bar"
           }
          ],
          "barpolar": [
           {
            "marker": {
             "line": {
              "color": "#E5ECF6",
              "width": 0.5
             }
            },
            "type": "barpolar"
           }
          ],
          "carpet": [
           {
            "aaxis": {
             "endlinecolor": "#2a3f5f",
             "gridcolor": "white",
             "linecolor": "white",
             "minorgridcolor": "white",
             "startlinecolor": "#2a3f5f"
            },
            "baxis": {
             "endlinecolor": "#2a3f5f",
             "gridcolor": "white",
             "linecolor": "white",
             "minorgridcolor": "white",
             "startlinecolor": "#2a3f5f"
            },
            "type": "carpet"
           }
          ],
          "choropleth": [
           {
            "colorbar": {
             "outlinewidth": 0,
             "ticks": ""
            },
            "type": "choropleth"
           }
          ],
          "contour": [
           {
            "colorbar": {
             "outlinewidth": 0,
             "ticks": ""
            },
            "colorscale": [
             [
              0,
              "#0d0887"
             ],
             [
              0.1111111111111111,
              "#46039f"
             ],
             [
              0.2222222222222222,
              "#7201a8"
             ],
             [
              0.3333333333333333,
              "#9c179e"
             ],
             [
              0.4444444444444444,
              "#bd3786"
             ],
             [
              0.5555555555555556,
              "#d8576b"
             ],
             [
              0.6666666666666666,
              "#ed7953"
             ],
             [
              0.7777777777777778,
              "#fb9f3a"
             ],
             [
              0.8888888888888888,
              "#fdca26"
             ],
             [
              1,
              "#f0f921"
             ]
            ],
            "type": "contour"
           }
          ],
          "contourcarpet": [
           {
            "colorbar": {
             "outlinewidth": 0,
             "ticks": ""
            },
            "type": "contourcarpet"
           }
          ],
          "heatmap": [
           {
            "colorbar": {
             "outlinewidth": 0,
             "ticks": ""
            },
            "colorscale": [
             [
              0,
              "#0d0887"
             ],
             [
              0.1111111111111111,
              "#46039f"
             ],
             [
              0.2222222222222222,
              "#7201a8"
             ],
             [
              0.3333333333333333,
              "#9c179e"
             ],
             [
              0.4444444444444444,
              "#bd3786"
             ],
             [
              0.5555555555555556,
              "#d8576b"
             ],
             [
              0.6666666666666666,
              "#ed7953"
             ],
             [
              0.7777777777777778,
              "#fb9f3a"
             ],
             [
              0.8888888888888888,
              "#fdca26"
             ],
             [
              1,
              "#f0f921"
             ]
            ],
            "type": "heatmap"
           }
          ],
          "heatmapgl": [
           {
            "colorbar": {
             "outlinewidth": 0,
             "ticks": ""
            },
            "colorscale": [
             [
              0,
              "#0d0887"
             ],
             [
              0.1111111111111111,
              "#46039f"
             ],
             [
              0.2222222222222222,
              "#7201a8"
             ],
             [
              0.3333333333333333,
              "#9c179e"
             ],
             [
              0.4444444444444444,
              "#bd3786"
             ],
             [
              0.5555555555555556,
              "#d8576b"
             ],
             [
              0.6666666666666666,
              "#ed7953"
             ],
             [
              0.7777777777777778,
              "#fb9f3a"
             ],
             [
              0.8888888888888888,
              "#fdca26"
             ],
             [
              1,
              "#f0f921"
             ]
            ],
            "type": "heatmapgl"
           }
          ],
          "histogram": [
           {
            "marker": {
             "colorbar": {
              "outlinewidth": 0,
              "ticks": ""
             }
            },
            "type": "histogram"
           }
          ],
          "histogram2d": [
           {
            "colorbar": {
             "outlinewidth": 0,
             "ticks": ""
            },
            "colorscale": [
             [
              0,
              "#0d0887"
             ],
             [
              0.1111111111111111,
              "#46039f"
             ],
             [
              0.2222222222222222,
              "#7201a8"
             ],
             [
              0.3333333333333333,
              "#9c179e"
             ],
             [
              0.4444444444444444,
              "#bd3786"
             ],
             [
              0.5555555555555556,
              "#d8576b"
             ],
             [
              0.6666666666666666,
              "#ed7953"
             ],
             [
              0.7777777777777778,
              "#fb9f3a"
             ],
             [
              0.8888888888888888,
              "#fdca26"
             ],
             [
              1,
              "#f0f921"
             ]
            ],
            "type": "histogram2d"
           }
          ],
          "histogram2dcontour": [
           {
            "colorbar": {
             "outlinewidth": 0,
             "ticks": ""
            },
            "colorscale": [
             [
              0,
              "#0d0887"
             ],
             [
              0.1111111111111111,
              "#46039f"
             ],
             [
              0.2222222222222222,
              "#7201a8"
             ],
             [
              0.3333333333333333,
              "#9c179e"
             ],
             [
              0.4444444444444444,
              "#bd3786"
             ],
             [
              0.5555555555555556,
              "#d8576b"
             ],
             [
              0.6666666666666666,
              "#ed7953"
             ],
             [
              0.7777777777777778,
              "#fb9f3a"
             ],
             [
              0.8888888888888888,
              "#fdca26"
             ],
             [
              1,
              "#f0f921"
             ]
            ],
            "type": "histogram2dcontour"
           }
          ],
          "mesh3d": [
           {
            "colorbar": {
             "outlinewidth": 0,
             "ticks": ""
            },
            "type": "mesh3d"
           }
          ],
          "parcoords": [
           {
            "line": {
             "colorbar": {
              "outlinewidth": 0,
              "ticks": ""
             }
            },
            "type": "parcoords"
           }
          ],
          "pie": [
           {
            "automargin": true,
            "type": "pie"
           }
          ],
          "scatter": [
           {
            "marker": {
             "colorbar": {
              "outlinewidth": 0,
              "ticks": ""
             }
            },
            "type": "scatter"
           }
          ],
          "scatter3d": [
           {
            "line": {
             "colorbar": {
              "outlinewidth": 0,
              "ticks": ""
             }
            },
            "marker": {
             "colorbar": {
              "outlinewidth": 0,
              "ticks": ""
             }
            },
            "type": "scatter3d"
           }
          ],
          "scattercarpet": [
           {
            "marker": {
             "colorbar": {
              "outlinewidth": 0,
              "ticks": ""
             }
            },
            "type": "scattercarpet"
           }
          ],
          "scattergeo": [
           {
            "marker": {
             "colorbar": {
              "outlinewidth": 0,
              "ticks": ""
             }
            },
            "type": "scattergeo"
           }
          ],
          "scattergl": [
           {
            "marker": {
             "colorbar": {
              "outlinewidth": 0,
              "ticks": ""
             }
            },
            "type": "scattergl"
           }
          ],
          "scattermapbox": [
           {
            "marker": {
             "colorbar": {
              "outlinewidth": 0,
              "ticks": ""
             }
            },
            "type": "scattermapbox"
           }
          ],
          "scatterpolar": [
           {
            "marker": {
             "colorbar": {
              "outlinewidth": 0,
              "ticks": ""
             }
            },
            "type": "scatterpolar"
           }
          ],
          "scatterpolargl": [
           {
            "marker": {
             "colorbar": {
              "outlinewidth": 0,
              "ticks": ""
             }
            },
            "type": "scatterpolargl"
           }
          ],
          "scatterternary": [
           {
            "marker": {
             "colorbar": {
              "outlinewidth": 0,
              "ticks": ""
             }
            },
            "type": "scatterternary"
           }
          ],
          "surface": [
           {
            "colorbar": {
             "outlinewidth": 0,
             "ticks": ""
            },
            "colorscale": [
             [
              0,
              "#0d0887"
             ],
             [
              0.1111111111111111,
              "#46039f"
             ],
             [
              0.2222222222222222,
              "#7201a8"
             ],
             [
              0.3333333333333333,
              "#9c179e"
             ],
             [
              0.4444444444444444,
              "#bd3786"
             ],
             [
              0.5555555555555556,
              "#d8576b"
             ],
             [
              0.6666666666666666,
              "#ed7953"
             ],
             [
              0.7777777777777778,
              "#fb9f3a"
             ],
             [
              0.8888888888888888,
              "#fdca26"
             ],
             [
              1,
              "#f0f921"
             ]
            ],
            "type": "surface"
           }
          ],
          "table": [
           {
            "cells": {
             "fill": {
              "color": "#EBF0F8"
             },
             "line": {
              "color": "white"
             }
            },
            "header": {
             "fill": {
              "color": "#C8D4E3"
             },
             "line": {
              "color": "white"
             }
            },
            "type": "table"
           }
          ]
         },
         "layout": {
          "annotationdefaults": {
           "arrowcolor": "#2a3f5f",
           "arrowhead": 0,
           "arrowwidth": 1
          },
          "autotypenumbers": "strict",
          "coloraxis": {
           "colorbar": {
            "outlinewidth": 0,
            "ticks": ""
           }
          },
          "colorscale": {
           "diverging": [
            [
             0,
             "#8e0152"
            ],
            [
             0.1,
             "#c51b7d"
            ],
            [
             0.2,
             "#de77ae"
            ],
            [
             0.3,
             "#f1b6da"
            ],
            [
             0.4,
             "#fde0ef"
            ],
            [
             0.5,
             "#f7f7f7"
            ],
            [
             0.6,
             "#e6f5d0"
            ],
            [
             0.7,
             "#b8e186"
            ],
            [
             0.8,
             "#7fbc41"
            ],
            [
             0.9,
             "#4d9221"
            ],
            [
             1,
             "#276419"
            ]
           ],
           "sequential": [
            [
             0,
             "#0d0887"
            ],
            [
             0.1111111111111111,
             "#46039f"
            ],
            [
             0.2222222222222222,
             "#7201a8"
            ],
            [
             0.3333333333333333,
             "#9c179e"
            ],
            [
             0.4444444444444444,
             "#bd3786"
            ],
            [
             0.5555555555555556,
             "#d8576b"
            ],
            [
             0.6666666666666666,
             "#ed7953"
            ],
            [
             0.7777777777777778,
             "#fb9f3a"
            ],
            [
             0.8888888888888888,
             "#fdca26"
            ],
            [
             1,
             "#f0f921"
            ]
           ],
           "sequentialminus": [
            [
             0,
             "#0d0887"
            ],
            [
             0.1111111111111111,
             "#46039f"
            ],
            [
             0.2222222222222222,
             "#7201a8"
            ],
            [
             0.3333333333333333,
             "#9c179e"
            ],
            [
             0.4444444444444444,
             "#bd3786"
            ],
            [
             0.5555555555555556,
             "#d8576b"
            ],
            [
             0.6666666666666666,
             "#ed7953"
            ],
            [
             0.7777777777777778,
             "#fb9f3a"
            ],
            [
             0.8888888888888888,
             "#fdca26"
            ],
            [
             1,
             "#f0f921"
            ]
           ]
          },
          "colorway": [
           "#636efa",
           "#EF553B",
           "#00cc96",
           "#ab63fa",
           "#FFA15A",
           "#19d3f3",
           "#FF6692",
           "#B6E880",
           "#FF97FF",
           "#FECB52"
          ],
          "font": {
           "color": "#2a3f5f"
          },
          "geo": {
           "bgcolor": "white",
           "lakecolor": "white",
           "landcolor": "#E5ECF6",
           "showlakes": true,
           "showland": true,
           "subunitcolor": "white"
          },
          "hoverlabel": {
           "align": "left"
          },
          "hovermode": "closest",
          "mapbox": {
           "style": "light"
          },
          "paper_bgcolor": "white",
          "plot_bgcolor": "#E5ECF6",
          "polar": {
           "angularaxis": {
            "gridcolor": "white",
            "linecolor": "white",
            "ticks": ""
           },
           "bgcolor": "#E5ECF6",
           "radialaxis": {
            "gridcolor": "white",
            "linecolor": "white",
            "ticks": ""
           }
          },
          "scene": {
           "xaxis": {
            "backgroundcolor": "#E5ECF6",
            "gridcolor": "white",
            "gridwidth": 2,
            "linecolor": "white",
            "showbackground": true,
            "ticks": "",
            "zerolinecolor": "white"
           },
           "yaxis": {
            "backgroundcolor": "#E5ECF6",
            "gridcolor": "white",
            "gridwidth": 2,
            "linecolor": "white",
            "showbackground": true,
            "ticks": "",
            "zerolinecolor": "white"
           },
           "zaxis": {
            "backgroundcolor": "#E5ECF6",
            "gridcolor": "white",
            "gridwidth": 2,
            "linecolor": "white",
            "showbackground": true,
            "ticks": "",
            "zerolinecolor": "white"
           }
          },
          "shapedefaults": {
           "line": {
            "color": "#2a3f5f"
           }
          },
          "ternary": {
           "aaxis": {
            "gridcolor": "white",
            "linecolor": "white",
            "ticks": ""
           },
           "baxis": {
            "gridcolor": "white",
            "linecolor": "white",
            "ticks": ""
           },
           "bgcolor": "#E5ECF6",
           "caxis": {
            "gridcolor": "white",
            "linecolor": "white",
            "ticks": ""
           }
          },
          "title": {
           "x": 0.05
          },
          "xaxis": {
           "automargin": true,
           "gridcolor": "white",
           "linecolor": "white",
           "ticks": "",
           "title": {
            "standoff": 15
           },
           "zerolinecolor": "white",
           "zerolinewidth": 2
          },
          "yaxis": {
           "automargin": true,
           "gridcolor": "white",
           "linecolor": "white",
           "ticks": "",
           "title": {
            "standoff": 15
           },
           "zerolinecolor": "white",
           "zerolinewidth": 2
          }
         }
        }
       }
      }
     },
     "metadata": {}
    }
   ],
   "metadata": {
    "ExecuteTime": {
     "end_time": "2020-12-30T19:03:16.896047Z",
     "start_time": "2020-12-30T19:03:16.824625Z"
    }
   }
  },
  {
   "cell_type": "code",
   "execution_count": null,
   "source": [],
   "outputs": [],
   "metadata": {}
  },
  {
   "cell_type": "code",
   "execution_count": null,
   "source": [],
   "outputs": [],
   "metadata": {}
  },
  {
   "cell_type": "code",
   "execution_count": null,
   "source": [
    "sp = spotipy.Spotify(auth=get_token('user-read-recently-played'))\n",
    "recent_track_names = [x['track']['name'] for x in sp.current_user_recently_played()['items']]\n",
    "recent_tracks = [x['track']['uri'] for x in sp.current_user_recently_played()['items']]\n",
    "recent_track_names"
   ],
   "outputs": [],
   "metadata": {}
  }
 ],
 "metadata": {
  "kernelspec": {
   "name": "python3",
   "display_name": "Python 3.7.6 64-bit"
  },
  "language_info": {
   "codemirror_mode": {
    "name": "ipython",
    "version": 3
   },
   "file_extension": ".py",
   "mimetype": "text/x-python",
   "name": "python",
   "nbconvert_exporter": "python",
   "pygments_lexer": "ipython3",
   "version": "3.7.6"
  },
  "toc": {
   "base_numbering": 1,
   "nav_menu": {},
   "number_sections": false,
   "sideBar": true,
   "skip_h1_title": false,
   "title_cell": "Table of Contents",
   "title_sidebar": "Contents",
   "toc_cell": false,
   "toc_position": {},
   "toc_section_display": true,
   "toc_window_display": false
  },
  "varInspector": {
   "cols": {
    "lenName": 16,
    "lenType": 16,
    "lenVar": 40
   },
   "kernels_config": {
    "python": {
     "delete_cmd_postfix": "",
     "delete_cmd_prefix": "del ",
     "library": "var_list.py",
     "varRefreshCmd": "print(var_dic_list())"
    },
    "r": {
     "delete_cmd_postfix": ") ",
     "delete_cmd_prefix": "rm(",
     "library": "var_list.r",
     "varRefreshCmd": "cat(var_dic_list()) "
    }
   },
   "types_to_exclude": [
    "module",
    "function",
    "builtin_function_or_method",
    "instance",
    "_Feature"
   ],
   "window_display": false
  },
  "interpreter": {
   "hash": "4cd7ab41f5fca4b9b44701077e38c5ffd31fe66a6cab21e0214b68d958d0e462"
  }
 },
 "nbformat": 4,
 "nbformat_minor": 2
}